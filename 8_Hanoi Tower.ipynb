{
 "cells": [
  {
   "cell_type": "markdown",
   "metadata": {},
   "source": [
    "### Задача о Ханойской башне\n",
    "\n",
    "&#8195;&#8195; \"Ханойская башня\" является одной из популярных головоломок XIX века. Даны три стержня, на один из которых нанизаны восемь колец, причем кольца отличаются размером и лежат меньшее на большем. Задача состоит в том, чтобы перенести пирамиду из восьми колец за наименьшее число ходов на другой стержень. За один раз разрешается переносить только одно кольцо, причём нельзя класть большее кольцо на меньшее."
   ]
  },
  {
   "cell_type": "markdown",
   "metadata": {},
   "source": [
    "### Правила игры\n",
    "\n",
    "&#8195;&#8195; Есть 1 стержень с дисками разного размера, и еще 2 пустых стержня. Надо переместить диски с одного стержня на другой. Перекладывать можно только по одному диску за ход. Складывать диски можно только меньший на больший."
   ]
  },
  {
   "cell_type": "markdown",
   "metadata": {},
   "source": [
    "### Алгоритм\n",
    "\n",
    "&#8195;&#8195; При этом задача решается следующим образом:\n",
    "\n",
    "- Переместить n-1 дисков со стержня 1 на стержень 2, используя стержень 3, как временное размещение.\n",
    "- Переместить последний наибольший диск со стержня 1 на стержень 3.\n",
    "- Переместить n-1 дисков со стержня 2 на стержень 3, используя стержень 1, как временное размещение.\n",
    "- Процесс заканчивается, как только остается один стержень, то есть n=1. Последний диск просто перекладывается без временного размещения."
   ]
  },
  {
   "cell_type": "markdown",
   "metadata": {},
   "source": [
    "### Практическая реалиазция\n",
    "\n",
    "&#8195;&#8195; Ниже вы сможете ввести количество дисков на стартовой башне, и увидеть поэтапное выполнение алгоритма. Чем светлее цвет квадрата на графике, тем меньше диск."
   ]
  },
  {
   "cell_type": "code",
   "execution_count": 1,
   "metadata": {},
   "outputs": [
    {
     "data": {
      "text/html": [
       "<script>\n",
       "code_show=true; \n",
       "function code_toggle() {\n",
       " if (code_show){\n",
       " $('div.input').hide();\n",
       " } else {\n",
       " $('div.input').show();\n",
       " }\n",
       " code_show = !code_show\n",
       "} \n",
       "$( document ).ready(code_toggle);\n",
       "</script>\n",
       "<form action=\"javascript:code_toggle()\"><input type=\"submit\" value=\"Нажмите на кнопку чтобы увидеть код\"></form>"
      ],
      "text/plain": [
       "<IPython.core.display.HTML object>"
      ]
     },
     "execution_count": 1,
     "metadata": {},
     "output_type": "execute_result"
    }
   ],
   "source": [
    "import ipywidgets as widgets\n",
    "from ipywidgets import interactive\n",
    "from IPython.display import HTML\n",
    "\n",
    "%matplotlib inline\n",
    "\n",
    "HTML('''<script>\n",
    "code_show=true; \n",
    "function code_toggle() {\n",
    " if (code_show){\n",
    " $('div.input').hide();\n",
    " } else {\n",
    " $('div.input').show();\n",
    " }\n",
    " code_show = !code_show\n",
    "} \n",
    "$( document ).ready(code_toggle);\n",
    "</script>\n",
    "<form action=\"javascript:code_toggle()\"><input type=\"submit\" value=\"Нажмите на кнопку чтобы увидеть код\"></form>''')"
   ]
  },
  {
   "cell_type": "code",
   "execution_count": 2,
   "metadata": {},
   "outputs": [
    {
     "name": "stdout",
     "output_type": "stream",
     "text": [
      "Введите количество дисков на стартовой башне\n",
      "3\n"
     ]
    },
    {
     "data": {
      "image/png": "[encoded data removed]",
      "text/plain": [
       "<Figure size 432x288 with 1 Axes>"
      ]
     },
     "metadata": {
      "needs_background": "light"
     },
     "output_type": "display_data"
    },
    {
     "data": {
      "text/plain": [
       "<Figure size 100x400 with 0 Axes>"
      ]
     },
     "metadata": {},
     "output_type": "display_data"
    },
    {
     "name": "stdout",
     "output_type": "stream",
     "text": [
      "Диск A к C\n"
     ]
    },
    {
     "data": {
      "image/png": "[encoded data removed]",
      "text/plain": [
       "<Figure size 432x288 with 1 Axes>"
      ]
     },
     "metadata": {
      "needs_background": "light"
     },
     "output_type": "display_data"
    },
    {
     "data": {
      "text/plain": [
       "<Figure size 100x400 with 0 Axes>"
      ]
     },
     "metadata": {},
     "output_type": "display_data"
    },
    {
     "name": "stdout",
     "output_type": "stream",
     "text": [
      "Диск A к B\n"
     ]
    },
    {
     "data": {
      "image/png": "[encoded data removed]",
      "text/plain": [
       "<Figure size 432x288 with 1 Axes>"
      ]
     },
     "metadata": {
      "needs_background": "light"
     },
     "output_type": "display_data"
    },
    {
     "data": {
      "text/plain": [
       "<Figure size 100x400 with 0 Axes>"
      ]
     },
     "metadata": {},
     "output_type": "display_data"
    },
    {
     "name": "stdout",
     "output_type": "stream",
     "text": [
      "Диск C к B\n"
     ]
    },
    {
     "data": {
      "image/png": "[encoded data removed]",
      "text/plain": [
       "<Figure size 432x288 with 1 Axes>"
      ]
     },
     "metadata": {
      "needs_background": "light"
     },
     "output_type": "display_data"
    },
    {
     "data": {
      "text/plain": [
       "<Figure size 100x400 with 0 Axes>"
      ]
     },
     "metadata": {},
     "output_type": "display_data"
    },
    {
     "name": "stdout",
     "output_type": "stream",
     "text": [
      "Диск A к C\n"
     ]
    },
    {
     "data": {
      "image/png": "[encoded data removed]",
      "text/plain": [
       "<Figure size 432x288 with 1 Axes>"
      ]
     },
     "metadata": {
      "needs_background": "light"
     },
     "output_type": "display_data"
    },
    {
     "data": {
      "text/plain": [
       "<Figure size 100x400 with 0 Axes>"
      ]
     },
     "metadata": {},
     "output_type": "display_data"
    },
    {
     "name": "stdout",
     "output_type": "stream",
     "text": [
      "Диск B к A\n"
     ]
    },
    {
     "data": {
      "image/png": "[encoded data removed]",
      "text/plain": [
       "<Figure size 432x288 with 1 Axes>"
      ]
     },
     "metadata": {
      "needs_background": "light"
     },
     "output_type": "display_data"
    },
    {
     "data": {
      "text/plain": [
       "<Figure size 100x400 with 0 Axes>"
      ]
     },
     "metadata": {},
     "output_type": "display_data"
    },
    {
     "name": "stdout",
     "output_type": "stream",
     "text": [
      "Диск B к C\n"
     ]
    },
    {
     "data": {
      "image/png": "[encoded data removed]",
      "text/plain": [
       "<Figure size 432x288 with 1 Axes>"
      ]
     },
     "metadata": {
      "needs_background": "light"
     },
     "output_type": "display_data"
    },
    {
     "data": {
      "text/plain": [
       "<Figure size 100x400 with 0 Axes>"
      ]
     },
     "metadata": {},
     "output_type": "display_data"
    },
    {
     "name": "stdout",
     "output_type": "stream",
     "text": [
      "Диск A к C\n"
     ]
    },
    {
     "data": {
      "image/png": "[encoded data removed]",
      "text/plain": [
       "<Figure size 432x288 with 1 Axes>"
      ]
     },
     "metadata": {
      "needs_background": "light"
     },
     "output_type": "display_data"
    },
    {
     "data": {
      "text/plain": [
       "<Figure size 100x400 with 0 Axes>"
      ]
     },
     "metadata": {},
     "output_type": "display_data"
    }
   ],
   "source": [
    "import numpy as np\n",
    "import matplotlib.pyplot as plt\n",
    "%matplotlib inline\n",
    "\n",
    "def move(r,start, end, pivote,matrix,donut):\n",
    "    if r >= 1:\n",
    "        move(r-1,start,pivote,end,matrix,donut)\n",
    "        move_donut(matrix,start,end,donut)\n",
    "        move(r-1,pivote,end,start,matrix,donut)\n",
    "\n",
    "def move_donut(matrix, start ,end,donut):\n",
    "    \n",
    "    print(\"Диск\",start,\"к\",end)\n",
    "    \n",
    "    a=next((i for i, x in enumerate(matrix[:,0]) if x!=0), donut) \n",
    "    b=next((i for i, x in enumerate(matrix[:,1]) if x!=0), donut)\n",
    "    c=next((i for i, x in enumerate(matrix[:,2]) if x!=0), donut)\n",
    "    \n",
    "    if start==\"A\":\n",
    "        if end==\"B\":\n",
    "            matrix[b-1,1]=matrix[a,0]\n",
    "        else:\n",
    "            matrix[c-1,2]=matrix[a,0]\n",
    "        matrix[a,0]=0\n",
    "    if start==\"B\":\n",
    "        if end==\"A\":\n",
    "            matrix[a-1,0]=matrix[b,1]\n",
    "        else:\n",
    "            matrix[c-1,2]=matrix[b,1]\n",
    "        matrix[b,1]=0\n",
    "    if start==\"C\":\n",
    "        if end==\"A\":\n",
    "            matrix[a-1,0]=matrix[c,2]\n",
    "        else:\n",
    "            matrix[b-1,1]=matrix[c,2]\n",
    "        matrix[c,2]=0\n",
    "        \n",
    "    plt.imshow(matrix, cmap=plt.cm.Blues)\n",
    "    plt.figure(num=None, figsize=(1, 4), dpi=100, facecolor='r', edgecolor='k')\n",
    "    plt.show()\n",
    "\n",
    "def tower_game(donut):\n",
    "    \n",
    "    matrix=np.zeros((donut,3))\n",
    "    matrix[:donut,0]=range(1,donut+1)\n",
    "    plt.imshow(matrix, cmap=plt.cm.Blues)\n",
    "    plt.figure(num=None, figsize=(1, 4), dpi=100, facecolor='r', edgecolor='k')\n",
    "    plt.show()\n",
    "    move(r=donut,start=\"A\",end=\"C\",pivote=\"B\", matrix=matrix,donut=donut)\n",
    "\n",
    "def main():\n",
    "    print(\"Введите количество дисков на стартовой башне\")\n",
    "    n = int(input())\n",
    "    tower_game(n)\n",
    "if __name__ == \"__main__\": \n",
    "    main()\n"
   ]
  },
  {
   "cell_type": "markdown",
   "metadata": {},
   "source": [
    "#### В результате работы программы все диски с крайней левой башни были перемещены на крайную правую башню, что и требовалось сделать по условиям задачи."
   ]
  },
  {
   "cell_type": "code",
   "execution_count": null,
   "metadata": {},
   "outputs": [],
   "source": []
  }
 ],
 "metadata": {
  "kernelspec": {
   "display_name": "Python 3",
   "language": "python",
   "name": "python3"
  },
  "language_info": {
   "codemirror_mode": {
    "name": "ipython",
    "version": 3
   },
   "file_extension": ".py",
   "mimetype": "text/x-python",
   "name": "python",
   "nbconvert_exporter": "python",
   "pygments_lexer": "ipython3",
   "version": "3.7.4"
  }
 },
 "nbformat": 4,
 "nbformat_minor": 2
}
