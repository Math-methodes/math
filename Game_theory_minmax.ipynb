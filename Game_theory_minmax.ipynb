{
 "cells": [
  {
   "cell_type": "code",
   "execution_count": 1,
   "metadata": {},
   "outputs": [
    {
     "data": {
      "text/html": [
       "<script>\n",
       "code_show=true; \n",
       "function code_toggle() {\n",
       " if (code_show){\n",
       " $('div.input').hide();\n",
       " } else {\n",
       " $('div.input').show();\n",
       " }\n",
       " code_show = !code_show\n",
       "} \n",
       "$( document ).ready(code_toggle);\n",
       "</script>\n",
       "<form action=\"javascript:code_toggle()\"><input type=\"submit\" value=\"Нажмите на кнопку чтобы увидеть код\"></form>"
      ],
      "text/plain": [
       "<IPython.core.display.HTML object>"
      ]
     },
     "execution_count": 1,
     "metadata": {},
     "output_type": "execute_result"
    }
   ],
   "source": [
    "from IPython.display import HTML\n",
    "\n",
    "HTML('''<script>\n",
    "code_show=true; \n",
    "function code_toggle() {\n",
    " if (code_show){\n",
    " $('div.input').hide();\n",
    " } else {\n",
    " $('div.input').show();\n",
    " }\n",
    " code_show = !code_show\n",
    "} \n",
    "$( document ).ready(code_toggle);\n",
    "</script>\n",
    "<form action=\"javascript:code_toggle()\"><input type=\"submit\" value=\"Нажмите на кнопку чтобы увидеть код\"></form>''')"
   ]
  },
  {
   "cell_type": "markdown",
   "metadata": {},
   "source": [
    "### Принцип минимакса в решении игровых задач\n",
    "\n",
    "#### Основные понятия\n",
    "\n",
    "&#8195;&#8195; Во многих практических задачах возникают ситуации, когда требуется принять решение, не имея достаточной информации. Неизвестными могут быть как условия осуществления какой-либо операции, так и сознательные действия лиц, от которых зависит успех этой операции.\n",
    "\n",
    "&#8195;&#8195; Матричной игрой называется игра, осуществляемая по следующим правилам:\n",
    "- В игре участвуют два игрока;\n",
    "- Каждый из игроков обладает конечным набором стратегий;\n",
    "- Игра заключается в том, что каждый из игроков, не имея информации о действиях противника, делает один ход (выбирает одну из своих стратегий). Результатом выбора игроками стратегий является выигрыш и проигрыш в игре.\n",
    "- И выигрыш, и проигрыш выражаются числами.\n",
    "\n",
    "#### Матричная игра с нулевой суммой\n",
    "\n",
    "&#8195;&#8195; Матричная игра называется игрой с нулевой суммой, если в этой игре выигрыш одного игрока равняется проигрышу другого игрока.\n",
    "        \n",
    "&#8195;&#8195; Каждая матричная игра с нулевой суммой имеет платежную матрицу. Для того чтобы построить эту матрицу, обозначим одного из игроков символом A, а другого - символом B, и предположим, что $A_1$, $A_2$, ..., $A_m$ - стратегии, которые может применять игрок A, а $B_1$, $B_2$, ..., $B_n$ - стратегии, которые может применять игрок B.\n",
    "\n",
    "&#8195;&#8195; Матричная игра, в которой у игрока A имеется m стратегий, а у игрока B - n стратегий, называется игрой типа m$\\times$n.\n",
    "\n",
    "#### Нижняя и верхняя цена игры. Принцип минимакса\n",
    "\n",
    "Рассмотрим матричную игру типа m$\\times$n с платежной матрицей \n",
    "        \\begin{array}{cccc}\n",
    "            c_{11} & c_{12} & \\ldots & c_{1n}\\\\\n",
    "            c_{21} & c_{22} & \\ldots & c_{2n}\\\\\n",
    "            \\vdots & \\vdots & \\ddots & \\vdots\\\\\n",
    "            c_{m1} & c_{m2} & \\ldots & c_{mn}\n",
    "        \\end{array}\n",
    "        \n",
    "&#8195;&#8195; Если игрок A выберет стратегию $A_i$, то все его возможные выигрыши будут элементами i-й строки матрицы C. В наихудшем для игрока A случае, когда игрок B применяет стратегию, соответствующую минимальному элементу этой строки, выигрыш игрока A будет равен числу min $c_{ij}$, 1$\\leq$j$\\leq$n.\n",
    "    \n",
    "&#8195;&#8195; Следовательно, для получения наибольшего выигрыша, игроку A нужно выбирать ту из стратегий, для которой число min $c_{ij}$ (1$\\leq$j$\\leq$n) максимально. Это значение принятно считать нижней ценой игры.\n",
    "\n",
    "&#8195;&#8195;  Следовательно, игроку B нужно выбрать такую стратегию, для которой число max $c_{ij}$ (1$\\leq$i$\\leq$m) минимально. Это значение принято называть верхней ценой игры.\n",
    "\n",
    "#### Игры с седловой точкой\n",
    "\n",
    "Игра называется игрой с седловой точкой, если ее нижняя и верхняя цены совпадают, то есть выполняется равенство\n",
    "    \n",
    "&#8195;&#8195; $\\alpha$=max min $c_{ij}$=min max $c_{ij}$=$\\beta$, 1$\\leq$i$\\leq$m, 1$\\leq$j$\\leq$n\n",
    "    \n",
    "Для игры с седловой точкой общее значение нижней и верхней цены игры\n",
    "    \n",
    "&#8195;&#8195; V=$\\alpha$=$\\beta$\n",
    "\n",
    "называется ценой игры. Если седловая точка существует, то игра заканчивается после нахождения цены игры.\n",
    "\n",
    "&#8195;&#8195; Если селовая точка отсутствует, то в чистых стратегиях рассматриваемая игра не разрешима. Значит, результат этой игры определится в смешанных стратегиях.\n",
    "\n",
    "#### Теперь перейдем к практическому решению матричной игры.\n",
    "\n",
    "&#8195;&#8195; Для начала необходимо ввести матрицу, вы сможете сделать это ниже."
   ]
  },
  {
   "cell_type": "code",
   "execution_count": 2,
   "metadata": {
    "scrolled": false
   },
   "outputs": [
    {
     "name": "stdout",
     "output_type": "stream",
     "text": [
      "Введите количество строк в матрице '2 или 3'\n",
      "3\n",
      "Введите матрицу\n",
      "5 -1 -2\n",
      "6 2 -3\n",
      "7 -3 -4\n"
     ]
    }
   ],
   "source": [
    "import pandas as pd\n",
    "import numpy as np\n",
    "\n",
    "from IPython.display import HTML\n",
    "from numpy import linalg as LA\n",
    "\n",
    "from IPython.core.display import Javascript, display\n",
    "\n",
    "print(\"Введите количество строк в матрице '2 или 3'\")\n",
    "n=int(input())\n",
    "\n",
    "print(\"Введите матрицу\")\n",
    "a = [[int(j) for j  in input().split()] for i in range(n)]\n",
    "\n",
    "mat = np.array(a)\n",
    "A = []     #Индексы для строк df\n",
    "B = {}     #Индексы для столбцов df\n",
    "student_points = 0\n",
    "\n",
    "columnsList = []\n",
    "columnsList1 = []"
   ]
  },
  {
   "cell_type": "code",
   "execution_count": 3,
   "metadata": {},
   "outputs": [],
   "source": [
    "def toFixed(f: float, n=0):\n",
    "    a, b = str(f).split('.')\n",
    "    return '{}.{}{}'.format(a, b[:n], '0'*(n-len(b)))\n",
    "\n",
    "\n",
    "def invert_matrix():\n",
    "    \n",
    "    rows_cnt = len(a)\n",
    "    cols_cnt = len(a[0])\n",
    "\n",
    "    new_matix = [[0]*rows_cnt for _ in range(cols_cnt)]\n",
    "\n",
    "    for i in range(rows_cnt):\n",
    "        for j in range(cols_cnt):\n",
    "            new_matix[j][i] = a[i][j]\n",
    "    \n",
    "    return new_matix\n",
    "\n",
    "\n",
    "def delete_cols(mat,columnsList,columnsList1):\n",
    "    \n",
    "    check = 0\n",
    "\n",
    "    for i in range(len(mat[0])):\n",
    "\n",
    "        for j in range(i+1,len(mat[0])):\n",
    "\n",
    "            if (len(columnsList)<6):\n",
    "\n",
    "                for k in range(len(mat)):\n",
    "\n",
    "                    if (mat[k][i] >= mat[k][j]):\n",
    "                        check = check + 1\n",
    "                    else:\n",
    "                        check = 0\n",
    "                        break\n",
    "\n",
    "                if (check == len(mat)):\n",
    "                    columnsList.append(i)\n",
    "                    check = 0\n",
    "                    break;\n",
    "\n",
    "    check = 0               \n",
    "\n",
    "    for i in range(len(mat[0])):\n",
    "\n",
    "        for j in range(i+1,len(mat[0])):\n",
    "\n",
    "            if (len(columnsList1)<6):\n",
    "\n",
    "                for k in range(len(mat)):\n",
    "\n",
    "                    if (mat[k][j] >= mat[k][i]):\n",
    "                        check = check + 1\n",
    "                    else:\n",
    "                        check = 0\n",
    "                        break\n",
    "\n",
    "\n",
    "                if (check == len(mat)):\n",
    "                    columnsList1.append(j)\n",
    "                    check = 0\n",
    "                    break;\n",
    "    S = []\n",
    "    \n",
    "    if columnsList and columnsList1:\n",
    "        temp = np.hstack((columnsList, columnsList1))\n",
    "        temp = np.unique(temp)\n",
    "        temp = np.resize(temp, (len(mat[0])-3))\n",
    "        S = np.delete(mat, temp, 1)\n",
    "        S = np.transpose(S, axes = None)\n",
    "        A = ['A'+str(i+1) for i in range(n)]\n",
    "        B = {'B'+str(i+1): S[i] for i in range(len(S))}\n",
    "\n",
    "    else:\n",
    "        if columnsList1:\n",
    "            temp = np.resize(columnsList1, (len(mat[0])-3))\n",
    "            S = np.delete(mat, temp, 1)\n",
    "            S = np.transpose(S, axes=None)\n",
    "            A = ['A'+str(i+1) for i in range(n)]\n",
    "            B = {'B'+str(i+1): S[i] for i in range(len(S))}\n",
    "\n",
    "\n",
    "        if columnsList:\n",
    "            temp = np.resize(columnsList, (len(mat[0])-3))\n",
    "            S = np.delete(mat, temp, 1)\n",
    "            S = np.transpose(S, axes=None)\n",
    "            A = ['A'+str(i+1) for i in range(n)]\n",
    "            B = {'B'+str(i+1): S[i] for i in range(len(S))}\n",
    "            \n",
    "    return S\n",
    "\n",
    "def game2x2():\n",
    "    \n",
    "    p1 = (a[1][1] - a[1][0])/(a[0][0]+a[1][1] - a[1][0] - a[0][1])\n",
    "    p2 = (a[0][0] - a[0][1])/(a[0][0]+a[1][1] - a[1][0] - a[0][1])\n",
    "    \n",
    "    q1 = (a[1][1] - a[0][1])/(a[0][0]+a[1][1] - a[1][0] - a[0][1])\n",
    "    q2 = (a[0][0] - a[1][0])/(a[0][0]+a[1][1] - a[1][0] - a[0][1])\n",
    "    \n",
    "    y = (a[0][0]*a[1][1] - a[0][1]*a[1][0])/(a[0][0]+a[1][1] - a[1][0] - a[0][1])\n",
    "    \n",
    "    print(\"Ответ: y = \"+ str(toFixed(y, 2)))\n",
    "    print(\"Смешанные стратегии игрока №1: P(\" + str(toFixed(p1, 1)) + \",\" + str(toFixed(p2, 1)) + \")\")\n",
    "    print(\"Смешанные стратегии игрока №2: Q(\" + str(toFixed(q1, 1)) + \",\" + str(toFixed(q2, 1)) + \")\")\n",
    "    \n",
    "def find_first_p(temp):\n",
    "\n",
    "    right_side = np.array([[0], [0], [0],[1]])\n",
    "    bottom_add = np.array([1,1,1])\n",
    "    minus_y = np.array([[-1],[-1],[-1],[0]])\n",
    "\n",
    "    bottom_add = bottom_add.reshape(1,3)\n",
    "    minus_y = minus_y.reshape(4,1)\n",
    "    right_side = right_side.reshape(4,1)\n",
    "    \n",
    "    temp_matrix = np.concatenate([temp, bottom_add], axis = 0)\n",
    "    temp_matrix = np.concatenate([temp_matrix, minus_y], axis = 1)\n",
    "\n",
    "    x = LA.solve(temp_matrix, right_side)\n",
    "    return x\n",
    "\n",
    "def find_second_p(temp):\n",
    "\n",
    "    right_side = np.array([[0], [0], [0],[1]])\n",
    "    bottom_add = np.array([1,1,1])\n",
    "    minus_y = np.array([[-1],[-1],[-1],[0]])\n",
    "    \n",
    "    bottom_add = bottom_add.reshape(1,3)\n",
    "    minus_y = minus_y.reshape(4,1)\n",
    "    right_side = right_side.reshape(4,1)\n",
    "\n",
    "    temp_matrix1 = np.transpose(temp, axes = None)\n",
    "    temp_matrix1 = np.concatenate([temp_matrix1, bottom_add], axis = 0)\n",
    "    temp_matrix1 = np.concatenate([temp_matrix1, minus_y], axis = 1)\n",
    "\n",
    "    x1 = LA.solve(temp_matrix1, right_side)\n",
    "    return x1"
   ]
  },
  {
   "cell_type": "markdown",
   "metadata": {},
   "source": [
    "#### Шаг №1 Получение платежной матрицы."
   ]
  },
  {
   "cell_type": "code",
   "execution_count": 4,
   "metadata": {},
   "outputs": [],
   "source": [
    "pd.set_option('precision', 0)\n",
    "invert_m = invert_matrix() \n",
    "A = ['A'+str(i+1) for i in range(n)]\n",
    "B = {'B'+str(i+1): invert_m[i] for i in range(len(invert_m))}\n",
    "df = pd.DataFrame(index=A,data=B)"
   ]
  },
  {
   "cell_type": "code",
   "execution_count": 5,
   "metadata": {
    "scrolled": false
   },
   "outputs": [
    {
     "data": {
      "text/html": [
       "<style  type=\"text/css\" >\n",
       "    #T_60e22522_b182_11ea_9fe0_d8cb8ac267cc th {\n",
       "          font-size: 120%;\n",
       "          text-align: center;\n",
       "    }    #T_60e22522_b182_11ea_9fe0_d8cb8ac267cc caption {\n",
       "          caption-side: bottom;\n",
       "    }    #T_60e22522_b182_11ea_9fe0_d8cb8ac267cc tr {\n",
       "          font-size: 150%;\n",
       "          text-align: center;\n",
       "    }</style><table id=\"T_60e22522_b182_11ea_9fe0_d8cb8ac267cc\" ><thead>    <tr>        <th class=\"blank level0\" ></th>        <th class=\"col_heading level0 col0\" >B1</th>        <th class=\"col_heading level0 col1\" >B2</th>        <th class=\"col_heading level0 col2\" >B3</th>    </tr></thead><tbody>\n",
       "                <tr>\n",
       "                        <th id=\"T_60e22522_b182_11ea_9fe0_d8cb8ac267cclevel0_row0\" class=\"row_heading level0 row0\" >A1</th>\n",
       "                        <td id=\"T_60e22522_b182_11ea_9fe0_d8cb8ac267ccrow0_col0\" class=\"data row0 col0\" >5</td>\n",
       "                        <td id=\"T_60e22522_b182_11ea_9fe0_d8cb8ac267ccrow0_col1\" class=\"data row0 col1\" >-1</td>\n",
       "                        <td id=\"T_60e22522_b182_11ea_9fe0_d8cb8ac267ccrow0_col2\" class=\"data row0 col2\" >-2</td>\n",
       "            </tr>\n",
       "            <tr>\n",
       "                        <th id=\"T_60e22522_b182_11ea_9fe0_d8cb8ac267cclevel0_row1\" class=\"row_heading level0 row1\" >A2</th>\n",
       "                        <td id=\"T_60e22522_b182_11ea_9fe0_d8cb8ac267ccrow1_col0\" class=\"data row1 col0\" >6</td>\n",
       "                        <td id=\"T_60e22522_b182_11ea_9fe0_d8cb8ac267ccrow1_col1\" class=\"data row1 col1\" >2</td>\n",
       "                        <td id=\"T_60e22522_b182_11ea_9fe0_d8cb8ac267ccrow1_col2\" class=\"data row1 col2\" >-3</td>\n",
       "            </tr>\n",
       "            <tr>\n",
       "                        <th id=\"T_60e22522_b182_11ea_9fe0_d8cb8ac267cclevel0_row2\" class=\"row_heading level0 row2\" >A3</th>\n",
       "                        <td id=\"T_60e22522_b182_11ea_9fe0_d8cb8ac267ccrow2_col0\" class=\"data row2 col0\" >7</td>\n",
       "                        <td id=\"T_60e22522_b182_11ea_9fe0_d8cb8ac267ccrow2_col1\" class=\"data row2 col1\" >-3</td>\n",
       "                        <td id=\"T_60e22522_b182_11ea_9fe0_d8cb8ac267ccrow2_col2\" class=\"data row2 col2\" >-4</td>\n",
       "            </tr>\n",
       "    </tbody></table>"
      ],
      "text/plain": [
       "<pandas.io.formats.style.Styler at 0x2d04d3f2508>"
      ]
     },
     "metadata": {},
     "output_type": "display_data"
    }
   ],
   "source": [
    "# Стилизация датафрейма\n",
    "\n",
    "def hover(hover_color=\"#ffff99\"):\n",
    "    \n",
    "    return dict(selector=\"tr:hover\",\n",
    "                props=[(\"background-color\", \"%s\" % hover_color)])\n",
    "\n",
    "styles = [\n",
    "    dict(selector=\"th\", props=[(\"font-size\", \"120%\"),\n",
    "                               (\"text-align\", \"center\")]),\n",
    "    dict(selector=\"caption\", props=[(\"caption-side\", \"bottom\")]),\n",
    "    dict(selector=\"tr\", props=[(\"font-size\", \"150%\"),\n",
    "                               (\"text-align\", \"center\")])\n",
    "]\n",
    "html = (df.style.set_table_styles(styles))\n",
    "display(html)"
   ]
  },
  {
   "cell_type": "markdown",
   "metadata": {},
   "source": [
    "#### Шаг №2 Расчет максимальных и минимальных значений.\n",
    "\n",
    "&#8195;&#8195; На данном этапе необходимо рассчитать минимальные значения для каждой строки в матрице, а также максимальные значения для каждого столбца в матрице."
   ]
  },
  {
   "cell_type": "code",
   "execution_count": 6,
   "metadata": {},
   "outputs": [
    {
     "name": "stdout",
     "output_type": "stream",
     "text": [
      "Введите значения по столбцам\n",
      "-2 -3 -4\n",
      "Введите значения по строкам\n",
      "7 -5 -2\n"
     ]
    }
   ],
   "source": [
    "if (len(a[0]) <= 3):\n",
    "    amins = []\n",
    "    for i in range(1,len(A)+1):\n",
    "        amins.append(int(df.loc[\"A\"+str(i)].min()))\n",
    "\n",
    "    bmaxs = []\n",
    "    for i in range(1,len(invert_m)+1):\n",
    "        bmaxs.append(int(df[\"B\"+str(i)].max()))\n",
    "\n",
    "    df['a=min'] = amins\n",
    "    df.loc['b=max'] = bmaxs + [np.nan]\n",
    "\n",
    "    print(\"Введите значения по столбцам\")\n",
    "    check_cols = list(map(int, input().split()))\n",
    "    print('Введите значения по строкам')\n",
    "    check_rows = list(map(int, input().split()))\n",
    "\n",
    "    if (check_cols == bmaxs and check_rows == amins):\n",
    "\n",
    "        student_points =+ 1\n",
    "        print('')\n",
    "        print('Вы ввели корректные значения')\n"
   ]
  },
  {
   "cell_type": "code",
   "execution_count": 7,
   "metadata": {},
   "outputs": [
    {
     "data": {
      "text/html": [
       "<style  type=\"text/css\" >\n",
       "    #T_65639e9e_b182_11ea_9548_d8cb8ac267cc th {\n",
       "          font-size: 120%;\n",
       "          text-align: center;\n",
       "    }    #T_65639e9e_b182_11ea_9548_d8cb8ac267cc caption {\n",
       "          caption-side: bottom;\n",
       "    }    #T_65639e9e_b182_11ea_9548_d8cb8ac267cc tr {\n",
       "          font-size: 150%;\n",
       "          text-align: center;\n",
       "    }</style><table id=\"T_65639e9e_b182_11ea_9548_d8cb8ac267cc\" ><thead>    <tr>        <th class=\"blank level0\" ></th>        <th class=\"col_heading level0 col0\" >B1</th>        <th class=\"col_heading level0 col1\" >B2</th>        <th class=\"col_heading level0 col2\" >B3</th>        <th class=\"col_heading level0 col3\" >a=min</th>    </tr></thead><tbody>\n",
       "                <tr>\n",
       "                        <th id=\"T_65639e9e_b182_11ea_9548_d8cb8ac267cclevel0_row0\" class=\"row_heading level0 row0\" >A1</th>\n",
       "                        <td id=\"T_65639e9e_b182_11ea_9548_d8cb8ac267ccrow0_col0\" class=\"data row0 col0\" >5</td>\n",
       "                        <td id=\"T_65639e9e_b182_11ea_9548_d8cb8ac267ccrow0_col1\" class=\"data row0 col1\" >-1</td>\n",
       "                        <td id=\"T_65639e9e_b182_11ea_9548_d8cb8ac267ccrow0_col2\" class=\"data row0 col2\" >-2</td>\n",
       "                        <td id=\"T_65639e9e_b182_11ea_9548_d8cb8ac267ccrow0_col3\" class=\"data row0 col3\" >-2</td>\n",
       "            </tr>\n",
       "            <tr>\n",
       "                        <th id=\"T_65639e9e_b182_11ea_9548_d8cb8ac267cclevel0_row1\" class=\"row_heading level0 row1\" >A2</th>\n",
       "                        <td id=\"T_65639e9e_b182_11ea_9548_d8cb8ac267ccrow1_col0\" class=\"data row1 col0\" >6</td>\n",
       "                        <td id=\"T_65639e9e_b182_11ea_9548_d8cb8ac267ccrow1_col1\" class=\"data row1 col1\" >2</td>\n",
       "                        <td id=\"T_65639e9e_b182_11ea_9548_d8cb8ac267ccrow1_col2\" class=\"data row1 col2\" >-3</td>\n",
       "                        <td id=\"T_65639e9e_b182_11ea_9548_d8cb8ac267ccrow1_col3\" class=\"data row1 col3\" >-3</td>\n",
       "            </tr>\n",
       "            <tr>\n",
       "                        <th id=\"T_65639e9e_b182_11ea_9548_d8cb8ac267cclevel0_row2\" class=\"row_heading level0 row2\" >A3</th>\n",
       "                        <td id=\"T_65639e9e_b182_11ea_9548_d8cb8ac267ccrow2_col0\" class=\"data row2 col0\" >7</td>\n",
       "                        <td id=\"T_65639e9e_b182_11ea_9548_d8cb8ac267ccrow2_col1\" class=\"data row2 col1\" >-3</td>\n",
       "                        <td id=\"T_65639e9e_b182_11ea_9548_d8cb8ac267ccrow2_col2\" class=\"data row2 col2\" >-4</td>\n",
       "                        <td id=\"T_65639e9e_b182_11ea_9548_d8cb8ac267ccrow2_col3\" class=\"data row2 col3\" >-4</td>\n",
       "            </tr>\n",
       "            <tr>\n",
       "                        <th id=\"T_65639e9e_b182_11ea_9548_d8cb8ac267cclevel0_row3\" class=\"row_heading level0 row3\" >b=max</th>\n",
       "                        <td id=\"T_65639e9e_b182_11ea_9548_d8cb8ac267ccrow3_col0\" class=\"data row3 col0\" >7</td>\n",
       "                        <td id=\"T_65639e9e_b182_11ea_9548_d8cb8ac267ccrow3_col1\" class=\"data row3 col1\" >2</td>\n",
       "                        <td id=\"T_65639e9e_b182_11ea_9548_d8cb8ac267ccrow3_col2\" class=\"data row3 col2\" >-2</td>\n",
       "                        <td id=\"T_65639e9e_b182_11ea_9548_d8cb8ac267ccrow3_col3\" class=\"data row3 col3\" >nan</td>\n",
       "            </tr>\n",
       "    </tbody></table>"
      ],
      "text/plain": [
       "<pandas.io.formats.style.Styler at 0x2d04d3f8b48>"
      ]
     },
     "metadata": {},
     "output_type": "display_data"
    }
   ],
   "source": [
    "# Перерисовка датафрейма с настроенными стилями\n",
    "\n",
    "if (len(a[0]) <= 3):\n",
    "    html = (df.style.set_table_styles(styles))\n",
    "    display(html)"
   ]
  },
  {
   "cell_type": "markdown",
   "metadata": {
    "heading_collapsed": true
   },
   "source": [
    "#### Но если матрица в введенном вами примере имеет размерность 3xN, где N > 3, то перед вычислением минимальных и максимальных значений по строкам и столбцам необходимо убрать доминирующие столбцы. Как это сделать подробно описанно в лекционных материалах."
   ]
  },
  {
   "cell_type": "markdown",
   "metadata": {
    "hidden": true
   },
   "source": [
    "После отсеивания доминирующих столбцов, у нас получилась следующая матрица:"
   ]
  },
  {
   "cell_type": "code",
   "execution_count": 8,
   "metadata": {
    "hidden": true
   },
   "outputs": [],
   "source": [
    "if (len(a[0]) > 3):\n",
    "    temp = delete_cols(mat,columnsList,columnsList1)\n",
    "    A = ['A'+str(i+1) for i in range(n)]\n",
    "    B = {'B'+str(i+1): temp[i] for i in range(len(temp))}\n",
    "    df = pd.DataFrame(index=A,data=B)\n",
    "    html = (df.style.set_table_styles(styles))\n",
    "    display(html)"
   ]
  },
  {
   "cell_type": "markdown",
   "metadata": {
    "hidden": true
   },
   "source": [
    "Теперь требуется выполнить те же действия, что были указаны в начале второго шага. А именно рассчитать минимальные значения для каждой строки в матрице, а также максимальные значения для каждого столбца в матрице."
   ]
  },
  {
   "cell_type": "code",
   "execution_count": 9,
   "metadata": {
    "hidden": true
   },
   "outputs": [],
   "source": [
    "if (len(a[0]) > 3):\n",
    "    amins = []\n",
    "    for i in range(1,len(A)+1):\n",
    "        amins.append(int(df.loc[\"A\"+str(i)].min()))\n",
    "\n",
    "    bmaxs = []\n",
    "    for i in range(1,len(temp)+1):\n",
    "        bmaxs.append(int(df[\"B\"+str(i)].max()))\n",
    "\n",
    "    df['a=min'] = amins\n",
    "    df.loc['b=max'] = bmaxs + [np.nan]\n",
    "        \n",
    "    html = (df.style.set_table_styles(styles))\n",
    "    print(amins,bmaxs)\n",
    "    display(html)"
   ]
  },
  {
   "cell_type": "markdown",
   "metadata": {},
   "source": [
    "#### Шаг №3 Поиск нижней и верхней цены игры\n",
    "\n",
    "Для нахождения верхней  нижней цены игры требуется:\n",
    "- Для нижней цены игры необходимо найти максимум среди минимальных в строках;\n",
    "- Для верхней цены игры необходимо найти минимум среди максимумов по столбцам.\n",
    "\n",
    "Седловая точка будет существовать только в том случае, если нижняя и верхняя границы равны."
   ]
  },
  {
   "cell_type": "code",
   "execution_count": 10,
   "metadata": {},
   "outputs": [
    {
     "name": "stdout",
     "output_type": "stream",
     "text": [
      "Введите седловую точку, если она существует, иначе введите 0\n",
      "2\n"
     ]
    }
   ],
   "source": [
    "sed_is_true = 999\n",
    "\n",
    "max_point = max(amins)\n",
    "min_point = min(bmaxs)\n",
    "\n",
    "if (max_point == min_point):\n",
    "    sed_is_true = min_point\n",
    "else:\n",
    "    sed_is_true = 0\n",
    "    \n",
    "print ('Введите седловую точку, если она существует, иначе введите 0')\n",
    "\n",
    "check_sed = int(input())\n",
    "\n",
    "if (check_sed == sed_is_true):\n",
    "    \n",
    "    student_points =+ 1\n",
    "    print(\"Ваш ответ правильный!\")"
   ]
  },
  {
   "cell_type": "code",
   "execution_count": 11,
   "metadata": {},
   "outputs": [
    {
     "name": "stdout",
     "output_type": "stream",
     "text": [
      "Нижняя цена игры: -2\n",
      "Верхняя цена игры: -2\n",
      "Седловая точка существует, игра закончится в чистых стратегиях\n",
      "Цена игры: -2\n"
     ]
    }
   ],
   "source": [
    "# проверка на седловую точку\n",
    "\n",
    "sed_point = False\n",
    "\n",
    "max_point = max(amins)\n",
    "min_point = min(bmaxs)\n",
    "\n",
    "print(\"Нижняя цена игры: \" + str(max_point))\n",
    "print(\"Верхняя цена игры: \" + str(min_point))\n",
    "\n",
    "if (max_point == min_point):\n",
    "    print(\"Седловая точка существует, игра закончится в чистых стратегиях\")\n",
    "    print(\"Цена игры: \" + str(max_point))\n",
    "    sed_point = True\n",
    "else:\n",
    "    print(\"\")\n",
    "    print(\"Cедловой точки не существует, игра решится в смешанных стратегиях\")"
   ]
  },
  {
   "cell_type": "markdown",
   "metadata": {},
   "source": [
    "#### Если решения игры в чистых стратегиях не существует, то применяются смешанные. О них вы также сможете прочитать в лекционных материалах."
   ]
  },
  {
   "cell_type": "markdown",
   "metadata": {},
   "source": [
    "&#8195;&#8195; Для того чтобы найти решение в смешанных стратегиях, необходимо составить систему линейных неравенств из получившейся на данном этапе матрицы. Когда система будет решена, вы сможете найсти стратегии каждого игрока, а также цену игры."
   ]
  },
  {
   "cell_type": "code",
   "execution_count": 12,
   "metadata": {},
   "outputs": [],
   "source": [
    "if (sed_point == False and n == 2):\n",
    "    game2x2()"
   ]
  },
  {
   "cell_type": "code",
   "execution_count": 13,
   "metadata": {
    "run_control": {
     "marked": false
    }
   },
   "outputs": [],
   "source": [
    "if (sed_point == False and n == 3):\n",
    "    marker1 = True\n",
    "    marker2 = True\n",
    "\n",
    "    temp = delete_cols(mat,columnsList,columnsList1)\n",
    "    player_1 = find_first_p(temp)\n",
    "    player_1 = np.resize(player_1, (1, 4))\n",
    "    player_1 = player_1[0]\n",
    "\n",
    "    player_2 = find_second_p(temp)\n",
    "    player_2 = np.resize(player_1, (1, 4))\n",
    "    player_2 = player_2[0]\n",
    "\n",
    "    for i in range(3):\n",
    "        if (player_1[i] < 0):\n",
    "            marker1 = False\n",
    "        if (player_2[i] < 0):\n",
    "            marker2 = False\n",
    "\n",
    "    if (marker1 == False or marker2 == False ):\n",
    "        print(\"Вероятность стратегии отрицательная, решение данным способом получить невозможно\")\n",
    "\n",
    "        print(\"y = \"+ str(toFixed(player_1[3], 1)))\n",
    "        print(\"Смешанные стратегии игрока №1: P(\" + str(toFixed(player_1[0], 2)) + \",\" + str(toFixed(player_1[1], 1)) + \",\" + str(toFixed(player_1[2], 1)) + \")\")\n",
    "        print(\"Смешанные стратегии игрока №2: Q(\" + str(toFixed(player_2[0], 1)) + \",\" + str(toFixed(player_2[1], 1)) + \",\" + str(toFixed(player_2[2], 1)) + \")\")\n",
    "\n",
    "    else:\n",
    "\n",
    "        print(\"y = \"+ str(toFixed(player_1[3], 1)))\n",
    "        print(\"Смешанные стратегии игрока №1: P(\" + str(toFixed(player_1[0], 2)) + \",\" + str(toFixed(player_1[1], 1)) + \",\" + str(toFixed(player_1[2], 1)) + \")\")\n",
    "        print(\"Смешанные стратегии игрока №2: Q(\" + str(toFixed(player_2[0], 1)) + \",\" + str(toFixed(player_2[1], 1)) + \",\" + str(toFixed(player_2[2], 1)) + \")\")"
   ]
  },
  {
   "cell_type": "code",
   "execution_count": 14,
   "metadata": {},
   "outputs": [
    {
     "name": "stdout",
     "output_type": "stream",
     "text": [
      "Введите ФИО, номер группы и код доступа\n"
     ]
    },
    {
     "data": {
      "application/vnd.jupyter.widget-view+json": {
       "model_id": "07c7f04e3ca5482d9063e6873a1a54c5",
       "version_major": 2,
       "version_minor": 0
      },
      "text/plain": [
       "Text(value='', placeholder='ФИО')"
      ]
     },
     "metadata": {},
     "output_type": "display_data"
    },
    {
     "data": {
      "application/vnd.jupyter.widget-view+json": {
       "model_id": "59bf9031fc044f0d83654707054d007e",
       "version_major": 2,
       "version_minor": 0
      },
      "text/plain": [
       "Text(value='', placeholder='Код доступа')"
      ]
     },
     "metadata": {},
     "output_type": "display_data"
    },
    {
     "data": {
      "application/vnd.jupyter.widget-view+json": {
       "model_id": "2197e20c6ea94018bcbeac1552d0fde4",
       "version_major": 2,
       "version_minor": 0
      },
      "text/plain": [
       "interactive(children=(Button(description='Run Interact', style=ButtonStyle()), Output()), _dom_classes=('widge…"
      ]
     },
     "metadata": {},
     "output_type": "display_data"
    }
   ],
   "source": [
    "import ipywidgets as widgets\n",
    "from ipywidgets import Button, Layout\n",
    "print(\"Введите ФИО, номер группы и код доступа\")\n",
    "name = widgets.Text(placeholder='ФИО',description='',disabled=False)\n",
    "key = widgets.Text(placeholder='Код доступа',description='',disabled=False)\n",
    "display(name,key)\n",
    "def send_clicked():\n",
    "    key_tmp = int(key.value)\n",
    "    name_tmp = name.value\n",
    "    if(key_tmp==1234):\n",
    "        key.value = \"\"\n",
    "        name.value = \"\"\n",
    "        !jupyter nbconvert --config config.py Game_theory_minmax.ipynb\n",
    "        print(\"Данные отправлены! Спасибо!\")\n",
    "    else:\n",
    "        print(\"Неверный код доступа\")\n",
    "    \n",
    "im = widgets.interact_manual(send_clicked);\n",
    "im.widget.children[0].description = 'Отправить'\n",
    "im.widget.children[0].layout = Layout(width='30%')"
   ]
  },
  {
   "cell_type": "code",
   "execution_count": null,
   "metadata": {},
   "outputs": [],
   "source": []
  },
  {
   "cell_type": "code",
   "execution_count": null,
   "metadata": {},
   "outputs": [],
   "source": []
  },
  {
   "cell_type": "code",
   "execution_count": null,
   "metadata": {},
   "outputs": [],
   "source": []
  }
 ],
 "metadata": {
  "kernelspec": {
   "display_name": "Python 3",
   "language": "python",
   "name": "python3"
  },
  "language_info": {
   "codemirror_mode": {
    "name": "ipython",
    "version": 3
   },
   "file_extension": ".py",
   "mimetype": "text/x-python",
   "name": "python",
   "nbconvert_exporter": "python",
   "pygments_lexer": "ipython3",
   "version": "3.7.4"
  },
  "nb2mail": {
   "From": "mathmethodes@gmail.com",
   "Subject": "Business Report",
   "To": "rodionnub@mail.ru, kent3333lol@gmail.com",
   "attach_data": [
    "5_Optimal_investment.ipynb"
   ],
   "attach_file": [
    "5_Optimal_investment.ipynb"
   ],
   "attachments": [
    "5_Optimal_investment.ipynb"
   ]
  }
 },
 "nbformat": 4,
 "nbformat_minor": 4
}
