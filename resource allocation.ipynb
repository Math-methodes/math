{
 "cells": [
  {
   "cell_type": "code",
   "execution_count": 89,
   "metadata": {},
   "outputs": [],
   "source": [
    "import numpy as np\n",
    "arr = np.array([0,1,2,3,4,5,6])\n",
    "pr = np.array([[0,2.0,2.5,3.8,4.8,5.8,6.3],\n",
    "    [0,2.1,2.9,3.6,4.7,5.4,6.5],\n",
    "    [0,1.7,2.4,3.7,4.4,5.7,6.6],\n",
    "    [0,1.9,2.3,3.6,4.3,5.9,6.4]])\n",
    "sr = np.zeros((7,4))\n",
    "ma = np.zeros(7)"
   ]
  },
  {
   "cell_type": "code",
   "execution_count": 90,
   "metadata": {},
   "outputs": [
    {
     "name": "stdout",
     "output_type": "stream",
     "text": [
      "[0. 0. 0. 0. 0. 0. 0.]\n",
      "[[0.  0.  0.  0. ]\n",
      " [2.  2.1 1.7 1.9]\n",
      " [2.5 2.9 2.4 2.3]\n",
      " [3.8 3.6 3.7 3.6]\n",
      " [4.8 4.7 4.4 4.3]\n",
      " [5.8 5.4 5.7 5.9]\n",
      " [6.3 6.5 6.6 6.4]]\n",
      "[[0.  0.  0.  0. ]\n",
      " [1.7 1.9 2.  2.1]\n",
      " [2.3 2.4 2.5 2.9]\n",
      " [3.6 3.6 3.7 3.8]\n",
      " [4.3 4.4 4.7 4.8]\n",
      " [5.4 5.7 5.8 5.9]\n",
      " [6.3 6.4 6.5 6.6]]\n",
      "[0.  2.1 2.9 3.8 4.8 5.9 6.6]\n",
      "13.1\n",
      "4.1\n",
      "5.4\n",
      "7.5\n",
      "9.5\n",
      "11.7\n"
     ]
    }
   ],
   "source": [
    "print(ma)\n",
    "for i in range(len(pr)):\n",
    "    for j in range(len(pr[i])):\n",
    "        sr[j][i] = pr[i][j]\n",
    "print(sr)\n",
    "sr.sort()\n",
    "print(sr)\n",
    "for i in range(len(sr)):\n",
    "    ma[i]=sr[i][3]\n",
    "print(ma)\n",
    "for i in range(len(sr)):\n",
    "    if ma[i]<(sr[i-1][3]+sr[i-1][2]):\n",
    "        print(sr[i-1][3]+sr[i-1][2])\n",
    "# for i in range(len(pr)):\n",
    "#     if pr[i][1]> ma[1][:\n",
    "#         ma[1] = pr[i][1]\n",
    "# print(ma)\n",
    "# for i in range(len(pr)):\n",
    "#     if pr[i][2] > ma[2]:\n",
    "#         ma[2] = pr[i][2]"
   ]
  },
  {
   "cell_type": "code",
   "execution_count": null,
   "metadata": {},
   "outputs": [],
   "source": []
  }
 ],
 "metadata": {
  "kernelspec": {
   "display_name": "Python 3",
   "language": "python",
   "name": "python3"
  },
  "language_info": {
   "codemirror_mode": {
    "name": "ipython",
    "version": 3
   },
   "file_extension": ".py",
   "mimetype": "text/x-python",
   "name": "python",
   "nbconvert_exporter": "python",
   "pygments_lexer": "ipython3",
   "version": "3.7.4"
  }
 },
 "nbformat": 4,
 "nbformat_minor": 2
}
