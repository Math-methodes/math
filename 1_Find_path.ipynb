{
 "cells": [
  {
   "cell_type": "code",
   "execution_count": 1,
   "metadata": {},
   "outputs": [
    {
     "data": {
      "text/html": [
       "<script>\n",
       "code_show=true; \n",
       "function code_toggle() {\n",
       " if (code_show){\n",
       " $('div.input').hide();\n",
       " } else {\n",
       " $('div.input').show();\n",
       " }\n",
       " code_show = !code_show\n",
       "} \n",
       "$( document ).ready(code_toggle);\n",
       "</script>\n",
       "<form action=\"javascript:code_toggle()\"><input type=\"submit\" value=\"Нажмите чтобы отобразить/скрыть код.\"></form>"
      ],
      "text/plain": [
       "<IPython.core.display.HTML object>"
      ]
     },
     "execution_count": 1,
     "metadata": {},
     "output_type": "execute_result"
    }
   ],
   "source": [
    "import networkx as nx\n",
    "import numpy as np\n",
    "import matplotlib.pyplot as plt\n",
    "from networkx.drawing.layout import spring_layout\n",
    "from IPython.display import HTML\n",
    "import warnings\n",
    "warnings.simplefilter('ignore')\n",
    "\n",
    "%matplotlib notebook\n",
    "\n",
    "HTML('''<script>\n",
    "code_show=true; \n",
    "function code_toggle() {\n",
    " if (code_show){\n",
    " $('div.input').hide();\n",
    " } else {\n",
    " $('div.input').show();\n",
    " }\n",
    " code_show = !code_show\n",
    "} \n",
    "$( document ).ready(code_toggle);\n",
    "</script>\n",
    "<form action=\"javascript:code_toggle()\"><input type=\"submit\" value=\"Нажмите чтобы отобразить/скрыть код.\"></form>''')"
   ]
  },
  {
   "cell_type": "markdown",
   "metadata": {},
   "source": [
    "# Задача о кратчайшем пути\n",
    "<br>&#8195;&#8195;Зада́ча о кратча́йшем пути́ — задача поиска самого короткого пути (цепи) между двумя точками (вершинами) на графе, в которой минимизируется сумма весов рёбер, составляющих путь.\n",
    "<br>&#8195;&#8195;Задача о кратчайшем пути является одной из важнейших классических задач теории графов. Сегодня известно множество алгоритмов для её решения.\n",
    "<br>&#8195;&#8195;У данной задачи существуют и другие названия: задача о минимальном пути или, в устаревшем варианте, задача о дилижансе.\n",
    "<br>&#8195;&#8195;Значимость данной задачи определяется её различными практическими применениями. Например, в GPS-навигаторах осуществляется поиск кратчайшего пути между точкой отправления и точкой назначения. В качестве вершин выступают перекрёстки, а дороги являются рёбрами, которые лежат между ними. Если сумма длин дорог между перекрёстками минимальна, тогда найденный путь самый короткий."
   ]
  },
  {
   "cell_type": "markdown",
   "metadata": {},
   "source": [
    "## Алгори́тм Де́йкстры\n",
    "<br>&#8195;&#8195;Алгори́тм Де́йкстры — алгоритм на графах, изобретённый нидерландским учёным Эдсгером Дейкстрой в 1959 году. Находит кратчайшие пути от одной из вершин графа до всех остальных. Алгоритм работает только для графов без рёбер отрицательного веса."
   ]
  },
  {
   "cell_type": "markdown",
   "metadata": {},
   "source": [
    "Заведём массив d[], в котором для каждой вершины v будем хранить текущую длину d[v] кратчайшего пути из s в v. Изначально d[s]=0, а для всех остальных вершин эта длина равна бесконечности (при реализации на компьютере обычно в качестве бесконечности выбирают просто достаточно большое число, заведомо большее возможной длины пути).\n",
    "\n",
    "Кроме того, для каждой вершины v будем хранить, помечена она ещё или нет, т.е. заведём булевский массив u[]. Изначально все вершины не помечены.\n",
    "\n",
    "Сам алгоритм Дейкстры состоит из n итераций. На очередной итерации выбирается вершина v с наименьшей величиной d[v] среди ещё не помеченных.\n",
    "\n",
    "Выбранная таким образом вершина v отмечается помеченной. Далее, на текущей итерации, из вершины v производятся релаксации: просматриваются все рёбра (v,to), исходящие из вершины v, и для каждой такой вершины to алгоритм пытается улучшить значение d[to].\n",
    "\n",
    "На этом текущая итерация заканчивается, алгоритм переходит к следующей итерации (снова выбирается вершина с наименьшей величиной d, из неё производятся релаксации, и т.д.). При этом в конце концов, после n итераций, все вершины графа станут помеченными, и алгоритм свою работу завершает. Утверждается, что найденные значения d[v] и есть искомые длины кратчайших путей из s в v.\n",
    "\n",
    "Стоит заметить, что, если не все вершины графа достижимы из вершины s, то значения d[v] для них так и останутся бесконечными. Понятно, что несколько последних итераций алгоритма будут как раз выбирать эти вершины, но никакой полезной работы производить эти итерации не будут (поскольку бесконечное расстояние не сможет прорелаксировать другие, даже тоже бесконечные расстояния). Поэтому алгоритм можно сразу останавливать, как только в качестве выбранной вершины берётся вершина с бесконечным расстоянием.\n",
    "\n",
    "Восстановление путей. Разумеется, обычно нужно знать не только длины кратчайших путей, но и получить сами пути. Покажем, как сохранить информацию, достаточную для последующего восстановления кратчайшего пути из s до любой вершины. Для этого достаточно так называемого массива предков: массива p[], в котором для каждой вершины v \\ne s хранится номер вершины p[v], являющейся предпоследней в кратчайшем пути до вершины v. Здесь используется тот факт, что если мы возьмём кратчайший путь до какой-то вершины v, а затем удалим из этого пути последнюю вершину, то получится путь, оканчивающийся некоторой вершиной p[v], и этот путь будет кратчайшим для вершины p[v]. Итак, если мы будем обладать этим массивом предков, то кратчайший путь можно будет восстановить по нему, просто каждый раз беря предка от текущей вершины, пока мы не придём в стартовую вершину s — так мы получим искомый кратчайший путь, но записанный в обратном порядке."
   ]
  },
  {
   "cell_type": "code",
   "execution_count": null,
   "metadata": {},
   "outputs": [
    {
     "name": "stdout",
     "output_type": "stream",
     "text": [
      "Граф:\n"
     ]
    },
    {
     "data": {
      "image/png": "[encoded data removed]",
      "text/plain": [
       "<Figure size 432x288 with 1 Axes>"
      ]
     },
     "metadata": {},
     "output_type": "display_data"
    }
   ],
   "source": [
    "Adj = np.asarray([[0, 5, 0, 0],[0, 0, 2, 7],[0, 2, 0, 1],[0, 7, 0, 0]]) #Zero means no edge between nodes\n",
    "G = nx.DiGraph()\n",
    "N = Adj.shape[0]\n",
    "for i in range(N):\n",
    "  G.add_node(i)\n",
    "for i in range(N):\n",
    "  for j in range(N):\n",
    "    if Adj[i,j] > 0:\n",
    "      G.add_edges_from([(i, j)], weight=Adj[i,j])\n",
    "\n",
    "print(\"Граф:\")\n",
    "\n",
    "pos=nx.spring_layout(G) \n",
    "edge_labels=dict([((u,v,),d['weight'])\n",
    "                 for u,v,d in G.edges(data=True)]) \n",
    "nx.draw_networkx(G,pos,edge_labels=edge_labels, node_size = 1000, edge_color='black',width=1,linewidths=1,node_color='pink',alpha=1) \n",
    "nx.draw_networkx_edge_labels(G, pos, edge_labels=edge_labels)\n",
    "plt.axis('off')\n",
    "plt.show()\n",
    "\n",
    "#Dijkstra algorithm\n",
    "distance = np.zeros(N) \n",
    "visited = np.ones(N) \n",
    "origin = int(input(\"Из вершины: \"))\n",
    "goal = int(input(\"В вершину: \")) \n",
    "\n",
    "visited[origin] = 0\n",
    "\n",
    "pred = np.zeros(N)\n",
    "pred[origin] = origin\n",
    "\n",
    "for j in range(N):\n",
    "  if Adj[origin,j] == 0 and origin != j: \n",
    "    distance[j] = 10e10\n",
    "    pred[j] = -1\n",
    "  else:\n",
    "    distance[j] = Adj[origin,j]\n",
    "    pred[j] = origin\n",
    "\n",
    "while(np.sum(visited) > 0): \n",
    "  temp = np.copy(distance) \n",
    "  temp[visited == 0] = 10e10\n",
    "  vmin = np.argmin(temp)\n",
    "  visited[vmin] = 0\n",
    "  for j in range(N):\n",
    "    if Adj[vmin,j] > 0 and distance[j]>distance[vmin]+Adj[vmin,j]: \n",
    "      distance[j] = distance[vmin]+Adj[vmin,j]\n",
    "      pred[j] = vmin\n",
    "\n",
    "pred = pred.astype(int) #Minimum distance path from origin node to the others\n",
    "\n",
    "#Plot path\n",
    "previous = pred[goal]\n",
    "path = [(previous, goal),(goal, previous)]\n",
    "print(\"Минимальный путь из \"+str(origin)+\" до \"+str(goal)+\": \"+str(goal)+\" <-- \"+str(previous), end=\"\")\n",
    "while(previous != origin):\n",
    "  path.append((previous, pred[previous]))\n",
    "  path.append((pred[previous], previous))\n",
    "  previous = pred[previous]\n",
    "  print(\" <-- \"+str(previous), end=\"\")\n",
    "\n",
    "edge_colors = ['black' if not edge in path else 'red' for edge in G.edges()]\n",
    "\n",
    "pos=nx.spring_layout(G)\n",
    "edge_labels=dict([((u,v,),d['weight'])\n",
    "                 for u,v,d in G.edges(data=True)])\n",
    "nx.draw_networkx(G,pos,edge_labels=edge_labels, node_size = 1000, width=1,linewidths=1,node_color='pink',alpha=1,edge_color=edge_colors)\n",
    "nx.draw_networkx_edge_labels(G, pos, edge_labels=edge_labels)\n",
    "plt.axis('off')\n",
    "plt.show()"
   ]
  },
  {
   "cell_type": "code",
   "execution_count": null,
   "metadata": {},
   "outputs": [],
   "source": []
  }
 ],
 "metadata": {
  "kernelspec": {
   "display_name": "Python 3",
   "language": "python",
   "name": "python3"
  },
  "language_info": {
   "codemirror_mode": {
    "name": "ipython",
    "version": 3
   },
   "file_extension": ".py",
   "mimetype": "text/x-python",
   "name": "python",
   "nbconvert_exporter": "python",
   "pygments_lexer": "ipython3",
   "version": "3.7.4"
  }
 },
 "nbformat": 4,
 "nbformat_minor": 2
}
