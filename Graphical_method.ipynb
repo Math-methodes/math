{
 "cells": [
  {
   "cell_type": "markdown",
   "metadata": {},
   "source": [
    "Графический метод решения задачи линейного программирования"
   ]
  },
  {
   "cell_type": "code",
   "execution_count": 1,
   "metadata": {},
   "outputs": [
    {
     "name": "stdout",
     "output_type": "stream",
     "text": [
      "Введите количество ограничений\n",
      "3\n",
      "Выберите тип уравнения(макс/мин?)\n",
      "min\n",
      "Введите коеффициенты целевой функции\n",
      "2\n",
      "3\n",
      "F = 2x + 3y ->min\n",
      "[2 3]\n",
      "Введите коеффициенты 1 неравенства\n",
      "8\n",
      "-5\n",
      "0\n",
      "16\n",
      "Введите коеффициенты 2 неравенства\n",
      "-1\n",
      "3\n",
      "0\n",
      "2\n",
      "Введите коеффициенты 3 неравенства\n",
      "2\n",
      "7\n",
      "0\n",
      "9\n"
     ]
    },
    {
     "data": {
      "text/plain": [
       "array([[ 8, -5,  0, 16],\n",
       "       [-1,  3,  0,  2],\n",
       "       [ 2,  7,  0,  9]])"
      ]
     },
     "execution_count": 1,
     "metadata": {},
     "output_type": "execute_result"
    }
   ],
   "source": [
    "import numpy as np\n",
    "import matplotlib.pyplot as plt\n",
    "from pylab import *\n",
    "from sympy import Line, Point, Segment\n",
    "%matplotlib inline\n",
    "\n",
    "count = 0 # подсчет количества неравенств-ограничений\n",
    "\n",
    "print('Введите количество ограничений')\n",
    "n = int(input())\n",
    "\n",
    "cel = np.array([0, 0]) #массив для целевой функции\n",
    "constr = np.zeros((n,4), dtype=int)\n",
    "points = np.zeros((n,4), dtype=float)\n",
    "\n",
    "print('Выберите тип уравнения(макс/мин?)')\n",
    "extr = str(input())\n",
    "\n",
    "print('Введите коеффициенты целевой функции')\n",
    "for i in range(cel.size):\n",
    " cel[i]=int(input())\n",
    "\n",
    "print('F = '+ str(cel[0]) + 'x'+' + ' + str(cel[1]) + 'y ->' + extr)\n",
    "print(cel)\n",
    "constr\n",
    "\n",
    "for i in range(n):\n",
    "    count+=1\n",
    "    print(\"Введите коеффициенты \" + str(count) + \" неравенства\")\n",
    "    for j in range(4):\n",
    "        constr[i][j]=int(input())\n",
    "\n",
    "constr"
   ]
  },
  {
   "cell_type": "code",
   "execution_count": 2,
   "metadata": {},
   "outputs": [
    {
     "data": {
      "text/plain": [
       "array([[ 2.        ,  0.        ,  0.        , -3.2       ],\n",
       "       [-2.        ,  0.        ,  0.        ,  0.66666667],\n",
       "       [ 4.5       ,  0.        ,  0.        ,  1.28571429]])"
      ]
     },
     "execution_count": 2,
     "metadata": {},
     "output_type": "execute_result"
    }
   ],
   "source": [
    "for i in range(n):\n",
    "    res = float(constr[i][3]/constr[i][0]) #приравниваем к нулю Y\n",
    "    res1 = float(constr[i][3]/constr[i][1]) #приравниваем к нулю X\n",
    "    points[i][0] = res\n",
    "    points[i][3] = res1\n",
    "points"
   ]
  },
  {
   "cell_type": "code",
   "execution_count": 3,
   "metadata": {},
   "outputs": [
    {
     "data": {
      "text/plain": [
       "[<matplotlib.lines.Line2D at 0x2736d74d048>]"
      ]
     },
     "execution_count": 3,
     "metadata": {},
     "output_type": "execute_result"
    },
    {
     "data": {
      "image/png": "[encoded data removed]",
      "text/plain": [
       "<Figure size 432x288 with 1 Axes>"
      ]
     },
     "metadata": {
      "needs_background": "light"
     },
     "output_type": "display_data"
    }
   ],
   "source": [
    "coefficients = np.zeros((10), dtype=object)\n",
    "polynomial = np.zeros((10), dtype=object)\n",
    "x_axis = np.zeros((10), dtype=object)\n",
    "y_axis = np.zeros((10), dtype=object)\n",
    "\n",
    "### Отрисовка линий после задающих их точек\n",
    "\n",
    "for i in range(n):\n",
    "    coefficients[i] = np.polyfit([points[i][0], 0.0], [0.0, points[i][3]], 1)\n",
    "\n",
    "for i in range(n):\n",
    "    polynomial[i] = np.poly1d(coefficients[i])\n",
    "\n",
    "for i in range(n):\n",
    "    x_axis[i] = np.linspace(-1, 6)\n",
    "\n",
    "for i in range(n):\n",
    "    y_axis[i] = polynomial[i](x_axis[i])\n",
    "    \n",
    "######\n",
    "\n",
    "#создание новой фигуры и ограничение для линейных графиков\n",
    "fig = plt.figure()\n",
    "axes = fig.add_subplot(111)\n",
    "axes.set_xlim(-1, 6)\n",
    "axes.set_ylim(-1, 6)\n",
    "\n",
    "for i in range(n):\n",
    "    axes.plot(x_axis[i], y_axis[i])\n",
    "\n",
    "#отрисовка точек по заданым параметрам\n",
    "for i in range(n):\n",
    "    axes.plot(points[i][0], 0.0, 0.0, points[i][3], marker='o', color='red')\n",
    "\n",
    "#построение декартовой системы координат\n",
    "left,right = axes.get_xlim()\n",
    "low,high = axes.get_ylim()\n",
    "\n",
    "arrow( left, 0, right -left, 0, length_includes_head = True, head_width = 0.15 )\n",
    "arrow( 0, low, 0, high-low, length_includes_head = True, head_width = 0.15 )\n",
    "\n",
    "axes.plot(3.05263158,1.68421053, 'ro')"
   ]
  },
  {
   "cell_type": "code",
   "execution_count": 4,
   "metadata": {},
   "outputs": [
    {
     "data": {
      "text/plain": [
       "array([array([ 1.6, -3.2]), array([0.33333333, 0.66666667]),\n",
       "       array([-0.28571429,  1.28571429]), 0, 0, 0, 0, 0, 0, 0],\n",
       "      dtype=object)"
      ]
     },
     "execution_count": 4,
     "metadata": {},
     "output_type": "execute_result"
    }
   ],
   "source": [
    "coefficients"
   ]
  },
  {
   "cell_type": "code",
   "execution_count": 5,
   "metadata": {},
   "outputs": [
    {
     "name": "stdout",
     "output_type": "stream",
     "text": [
      "[28]\n"
     ]
    }
   ],
   "source": [
    "print(idx)"
   ]
  },
  {
   "cell_type": "code",
   "execution_count": 6,
   "metadata": {},
   "outputs": [
    {
     "data": {
      "text/plain": [
       "array([-2.9, -6.1])"
      ]
     },
     "execution_count": 6,
     "metadata": {},
     "output_type": "execute_result"
    }
   ],
   "source": [
    "m1 = np.array([[5.,-5.], [-7., 3.]])\n",
    "v1 = np.array([16.,2.])\n",
    "np.linalg.solve(m1,v1)\n"
   ]
  },
  {
   "cell_type": "code",
   "execution_count": null,
   "metadata": {},
   "outputs": [],
   "source": []
  }
 ],
 "metadata": {
  "kernelspec": {
   "display_name": "Python 3",
   "language": "python",
   "name": "python3"
  },
  "language_info": {
   "codemirror_mode": {
    "name": "ipython",
    "version": 3
   },
   "file_extension": ".py",
   "mimetype": "text/x-python",
   "name": "python",
   "nbconvert_exporter": "python",
   "pygments_lexer": "ipython3",
   "version": "3.7.4"
  }
 },
 "nbformat": 4,
 "nbformat_minor": 4
}
