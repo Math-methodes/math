{
 "cells": [
  {
   "cell_type": "code",
   "execution_count": 1,
   "metadata": {},
   "outputs": [
    {
     "data": {
      "text/html": [
       "<script>\n",
       "code_show=true; \n",
       "function code_toggle() {\n",
       " if (code_show){\n",
       " $('div.input').hide();\n",
       " } else {\n",
       " $('div.input').show();\n",
       " }\n",
       " code_show = !code_show\n",
       "} \n",
       "$( document ).ready(code_toggle);\n",
       "</script>\n",
       "<form action=\"javascript:code_toggle()\"><input type=\"submit\" value=\"Нажмите чтобы отобразить/скрыть код.\"></form>"
      ],
      "text/plain": [
       "<IPython.core.display.HTML object>"
      ]
     },
     "execution_count": 1,
     "metadata": {},
     "output_type": "execute_result"
    }
   ],
   "source": [
    "from IPython.display import HTML\n",
    "\n",
    "HTML('''<script>\n",
    "code_show=true; \n",
    "function code_toggle() {\n",
    " if (code_show){\n",
    " $('div.input').hide();\n",
    " } else {\n",
    " $('div.input').show();\n",
    " }\n",
    " code_show = !code_show\n",
    "} \n",
    "$( document ).ready(code_toggle);\n",
    "</script>\n",
    "<form action=\"javascript:code_toggle()\"><input type=\"submit\" value=\"Нажмите чтобы отобразить/скрыть код.\"></form>''')"
   ]
  },
  {
   "cell_type": "markdown",
   "metadata": {},
   "source": [
    "### Графический метод решения игр типа 2$\\times$n и m$\\times$2"
   ]
  },
  {
   "attachments": {
    "image.png": {
     "image/png": "[encoded data removed]"
    }
   },
   "cell_type": "markdown",
   "metadata": {},
   "source": [
    "Рассмотрим игру типа 2$\\times$n с платежной матрицей\n",
    "\\begin{equation*}\n",
    "        C=\\left( \n",
    "        \\begin{array}{cccc}\n",
    "            a_{11} & a_{12} & \\ldots & a_{1n}\\\\\n",
    "            a_{21} & a_{22} & \\ldots & a_{2n}\n",
    "        \\end{array}\n",
    "        \\right)\n",
    "    \\end{equation*}\n",
    "    \n",
    "и проведем через точку (1; 0) координатной плоскости Oxy прямую l, перпендикулярную оси абсцисс. После этого для каждой из стратегий $B_i$ (i=${\\overline{1,n}}$) проведем прямую $(b_i): y=a_{1i}+(a_{2i}-a_{1i})x$, соединяющую точку (0;$a_{1i}$) на оси Оу с точкой (0;$a_{2i}$) на прямой l. Ось Оу отвечает за стратегию $A_1$, а прямая l - за стратегию $A_2$.\n",
    "![image.png](attachment:image.png)"
   ]
  },
  {
   "cell_type": "markdown",
   "metadata": {},
   "source": [
    "&#8195;&#8195; Ломаная $b_1MNb_3$, отмеченная на чертеже жирной линией, позволяет определить минимальный выигрыш игрока А при любом поведении игрока В. Точка N, в которой эта ломаная достигает максимума, определяет решение и цену игры. Ордината точки N равна цене игры V, а ее абсцисса $p_2$ - частоте применения стратегии $A_1$ в оптимальной смешанной стратегии игрока А.\n",
    "    \n",
    "&#8195;&#8195; Далее непосредственно по чертежу находим пару \"полезных\" стратегий игрока В, пересекающихся в точке N (если в точке N пересекается более двух стратегий, то выберем любые две из них). Пусть это будут стратегии $B_i$ и $B_j$. Поскольку выигрыш игрока А, если он придерживается оптимальной стратегии, не зависит от того, в каких пропорциях игрок В применяет эти стратегии, то неизвестные $p_1$, $p_2$, V определяются из системы уравнений:\n",
    "        \\begin{equation*}\n",
    "        \\left\\{\\begin{matrix}\n",
    "            a_{1i}p_1+a_{2i}p_2=V, \\\\ \n",
    "            a_{1j}p_1+a_{2j}p_2=V, \\\\\n",
    "            p_1+p_2=1. \n",
    "        \\end{matrix}\\right.\n",
    "        \\end{equation*}\n",
    "        \n",
    " Частоты $q_1$, $q_2$ в оптимальной стратегии\n",
    "        \\begin{equation*}\n",
    "        S_B=\\left( \n",
    "        \\begin{array}{ccccccc}\n",
    "            0 & \\ldots & B_i & \\ldots & B_j & \\ldots & 0\\\\\n",
    "            0 & \\ldots & q_i & \\ldots & q_j & \\ldots & 0\n",
    "        \\end{array}\n",
    "        \\right)\n",
    "    \\end{equation*}\n",
    "\n",
    "игрока В определяются из соотношения:\n",
    "    $a_{1i}q_i+a_{1j}(1-q_i)=V$; ($q_j=1-q_i$).\n"
   ]
  },
  {
   "cell_type": "markdown",
   "metadata": {},
   "source": [
    "#### Теперь вы можете посмотреть решение матричной игры 2x2"
   ]
  },
  {
   "cell_type": "code",
   "execution_count": 2,
   "metadata": {},
   "outputs": [
    {
     "name": "stdout",
     "output_type": "stream",
     "text": [
      "Введите матрицу 2x2:\n",
      "1 2\n",
      "2 1\n"
     ]
    }
   ],
   "source": [
    "import numpy as np\n",
    "import matplotlib.pyplot as plt\n",
    "from pylab import *\n",
    "from matplotlib.animation import FuncAnimation\n",
    "import ipywidgets as widgets\n",
    "from ipywidgets import interactive\n",
    "from IPython.display import HTML\n",
    "from sympy import Line, Point, Segment\n",
    "import matplotlib.ticker as ticker\n",
    "\n",
    "%matplotlib notebook\n",
    "\n",
    "\n",
    "print(\"Введите матрицу 2x2:\")\n",
    "n=2\n",
    "a = [[int(j) for j  in input().split()] for i in range(n)]\n",
    "\n",
    "mat = np.array(a)\n",
    "\n",
    "min_cols = np.amin(mat, axis = 0)\n",
    "max_rows = np.amax(mat, axis = 1)\n",
    "\n",
    "sed_point1 = np.amin(max_rows, axis = 0)\n",
    "sed_point2 = np.amax(min_cols, axis = 0)\n",
    "\n",
    "if (sed_point1 == sed_point2):\n",
    "    print(\"Cедловая точка существует, цена игры: \" + str(sed_point1))"
   ]
  },
  {
   "cell_type": "markdown",
   "metadata": {},
   "source": [
    "#### Шаг №1. Проверка седловой точки.\n",
    "\n",
    "&#8195;&#8195; Сначала необходимо определить, решается ли данная игра в чистых стратегиях, то есть существует ли седловая точка или нет. Если таковая точка существует, то задача решена и графическое решение не требуется. Как определить седловую точку было показано при решении матричной игры аналитическим методом."
   ]
  },
  {
   "cell_type": "code",
   "execution_count": 3,
   "metadata": {},
   "outputs": [],
   "source": [
    "if (sed_point1 == sed_point2):\n",
    "    print(\"Cедловая точка существует, цена игры: \" + str(sed_point1))"
   ]
  },
  {
   "cell_type": "markdown",
   "metadata": {},
   "source": [
    "#### Шаг №2. Построение графика функций.\n",
    "\n",
    "&#8195;&#8195; Далее необходимо нанести графики каждой функции на координатную плоскость. Выделяем точку пересчения этих прямых, в дальнейших вычислениях эта точка понадобится."
   ]
  },
  {
   "cell_type": "code",
   "execution_count": 4,
   "metadata": {},
   "outputs": [
    {
     "data": {
      "image/png": "[encoded data removed]",
      "text/plain": [
       "<Figure size 432x288 with 1 Axes>"
      ]
     },
     "metadata": {
      "needs_background": "light"
     },
     "output_type": "display_data"
    }
   ],
   "source": [
    "if (sed_point1 != sed_point2):\n",
    "    fig, ax = plt.subplots()\n",
    "    plt.axis([-0.2, 1.05, -2, 10])\n",
    "    ax.vlines(1, 0, 10)\n",
    "    lol = []\n",
    "    plt.xlabel('Ось X', fontsize=12, color='black')\n",
    "    plt.ylabel('Ось Y', fontsize=12, color='black')\n",
    "    plt.grid(True)\n",
    "\n",
    "    ax = plt.gca()\n",
    "    ax.spines['top'].set_color('none')\n",
    "    ax.spines['bottom'].set_position('zero')\n",
    "    ax.spines['left'].set_position('zero')\n",
    "    ax.spines['right'].set_color('none')\n",
    "\n",
    "    ax.xaxis.set_major_locator(ticker.MultipleLocator(0.5))\n",
    "    ax.xaxis.set_minor_locator(ticker.MultipleLocator(0.1))\n",
    "\n",
    "    ax.yaxis.set_major_locator(ticker.MultipleLocator(1))\n",
    "    ax.yaxis.set_minor_locator(ticker.MultipleLocator(0.5))\n",
    "\n",
    "    ax.tick_params(axis = 'both',    #  Применяем параметры к обеим осям\n",
    "                   which = 'major',    #  Применяем параметры к основным делениям\n",
    "                   direction = 'inout',    #  Рисуем деления внутри и снаружи графика\n",
    "                   length = 9,    #  Длинна делений\n",
    "                   width = 1.5,     #  Ширина делений\n",
    "                   color = 'black',    #  Цвет делений\n",
    "                   pad = 7,    #  Расстояние между черточкой и ее подписью\n",
    "                   labelsize = 10,    #  Размер подписи\n",
    "                   labelcolor = 'maroon',    #  Цвет подписи\n",
    "                   bottom = True,    #  Рисуем метки снизу\n",
    "                   top = True,    #   сверху\n",
    "                   left = True,    #  слева\n",
    "                   right = True,    #  и справа\n",
    "                   labelbottom = True,    #  Рисуем подписи снизу\n",
    "                   labeltop = True,    #  сверху\n",
    "                   labelleft = True,    #  слева\n",
    "                   labelright = True,    #  и справа\n",
    "                   labelrotation = 0)    #  Поворот подписей\n",
    "\n",
    "    x1 = [0,1]\n",
    "    y1 = [mat[1][1],mat[0][1]]\n",
    "\n",
    "    x2 = [0,1]\n",
    "    y2 = [mat[1][0],mat[0][0]]\n",
    "\n",
    "    p1, p2, p3, p4 = (Point(x1[0], y1[0]), Point(x1[1], y1[1]),\n",
    "                      Point(x2[0], y2[0]), Point(x2[1], y2[1]))\n",
    "\n",
    "    line1 = Line(p1, p2)\n",
    "    line2 = Line(p3, p4)\n",
    "\n",
    "    ax.plot(x1,y1, color = 'black')\n",
    "    ax.plot(x2,y2, color = 'black')\n",
    "\n",
    "    ax.scatter(1, mat[0][0], color='orange', marker='o')\n",
    "    ax.scatter(1, mat[0][1], color='orange', marker='o')\n",
    "    ax.scatter(0, mat[1][0], color='orange', marker='o')\n",
    "    ax.scatter(0, mat[1][1], color='orange', marker='o')\n",
    "\n",
    "    intersect = line1.intersection(line2)\n",
    "    if (intersect != []):\n",
    "        inter_point = intersect[0]\n",
    "        lol = list(inter_point)\n",
    "        ax.plot(lol[0],lol[1], marker = 'o', color='orange')\n",
    "\n",
    "    lol1 = np.array(lol)\n",
    "    sed_point1"
   ]
  },
  {
   "cell_type": "markdown",
   "metadata": {},
   "source": [
    "#### Шаг №3. Определение смешанных стратегий игроков.\n",
    "\n",
    "&#8195;&#8195; Оптимальную стратегию определяет точка N, то есть минимальный выигрыш, показанный на графике ниже, достигает максимума. Так мы определим лучшую стратегию первого игрока, а для того чтобы определить стратегию второго игрока необходимо взять оба отрезка, разположенные выше точки пересечения."
   ]
  },
  {
   "cell_type": "code",
   "execution_count": 5,
   "metadata": {},
   "outputs": [
    {
     "data": {
      "image/png": "[encoded data removed]",
      "text/plain": [
       "<Figure size 432x288 with 1 Axes>"
      ]
     },
     "metadata": {
      "needs_background": "light"
     },
     "output_type": "display_data"
    }
   ],
   "source": [
    "if (sed_point1 != sed_point2):\n",
    "    y1_n = np.sort(y1, axis = 0)\n",
    "    y2_n = np.sort(y2, axis = 0)\n",
    "\n",
    "    fig, ax = plt.subplots()\n",
    "    plt.axis([-0.2, 1.05, -2, 10])\n",
    "    ax.vlines(1, 0, 10)\n",
    "    plt.xlabel('Ось X', fontsize=12, color='black')\n",
    "    plt.ylabel('Ось Y', fontsize=12, color='black')\n",
    "    plt.grid(True)\n",
    "\n",
    "    ax = plt.gca()\n",
    "    ax.spines['top'].set_color('none')\n",
    "    ax.spines['bottom'].set_position('zero')\n",
    "    ax.spines['left'].set_position('zero')\n",
    "    ax.spines['right'].set_color('none')\n",
    "\n",
    "    ax.xaxis.set_major_locator(ticker.MultipleLocator(0.5))\n",
    "    ax.xaxis.set_minor_locator(ticker.MultipleLocator(0.1))\n",
    "\n",
    "    ax.yaxis.set_major_locator(ticker.MultipleLocator(1))\n",
    "    ax.yaxis.set_minor_locator(ticker.MultipleLocator(0.5))\n",
    "\n",
    "    ax.tick_params(axis = 'both',    #  Применяем параметры к обеим осям\n",
    "                   which = 'major',    #  Применяем параметры к основным делениям\n",
    "                   direction = 'inout',    #  Рисуем деления внутри и снаружи графика\n",
    "                   length = 9,    #  Длинна делений\n",
    "                   width = 1.5,     #  Ширина делений\n",
    "                   color = 'black',    #  Цвет делений\n",
    "                   pad = 7,    #  Расстояние между черточкой и ее подписью\n",
    "                   labelsize = 10,    #  Размер подписи\n",
    "                   labelcolor = 'maroon',    #  Цвет подписи\n",
    "                   bottom = True,    #  Рисуем метки снизу\n",
    "                   top = True,    #   сверху\n",
    "                   left = True,    #  слева\n",
    "                   right = True,    #  и справа\n",
    "                   labelbottom = True,    #  Рисуем подписи снизу\n",
    "                   labeltop = True,    #  сверху\n",
    "                   labelleft = True,    #  слева\n",
    "                   labelright = True,    #  и справа\n",
    "                   labelrotation = 0)    #  Поворот подписей\n",
    "    ax.plot(x1,y1, color = 'black')\n",
    "    ax.plot(x2,y2, color = 'black')\n",
    "    ax.plot([0,lol1[0]],[y1_n[0],lol1[1]], color = 'blue')\n",
    "    ax.plot([1,lol1[0]],[y2_n[0],lol1[1]], color = 'blue')\n",
    "\n",
    "    if (intersect != []):\n",
    "        ax.plot(lol[0],lol[1], marker = 'o', color='orange')\n",
    "        ax.vlines(lol[0], 0, lol[1], color = 'red', linewidth = 1, linestyle = '--',)\n",
    "        \n",
    "def toFixed(f: float, n=0):\n",
    "    a, b = str(f).split('.')\n",
    "    return '{}.{}{}'.format(a, b[:n], '0'*(n-len(b)))\n",
    "        \n",
    "        \n",
    "def game2x2():\n",
    "    \n",
    "    p1 = (a[1][1] - a[1][0])/(a[0][0]+a[1][1] - a[1][0] - a[0][1])\n",
    "    p2 = (a[0][0] - a[0][1])/(a[0][0]+a[1][1] - a[1][0] - a[0][1])\n",
    "    \n",
    "    q1 = (a[1][1] - a[0][1])/(a[0][0]+a[1][1] - a[1][0] - a[0][1])\n",
    "    q2 = (a[0][0] - a[1][0])/(a[0][0]+a[1][1] - a[1][0] - a[0][1])\n",
    "    \n",
    "    y = (a[0][0]*a[1][1] - a[0][1]*a[1][0])/(a[0][0]+a[1][1] - a[1][0] - a[0][1])\n",
    "    \n",
    "    print(\"Ответ: y = \"+ str(toFixed(y, 2)))\n",
    "    print(\"Смешанные стратегии игрока №1: P(\" + str(toFixed(p1, 1)) + \",\" + str(toFixed(p2, 1)) + \")\")\n",
    "    print(\"Смешанные стратегии игрока №2: Q(\" + str(toFixed(q1, 1)) + \",\" + str(toFixed(q2, 1)) + \")\")"
   ]
  },
  {
   "cell_type": "markdown",
   "metadata": {},
   "source": [
    "#### Шаг №4. Решить систему уравнений.\n",
    "\n",
    "&#8195;&#8195; На последнем этапе решения необходимо решить систему уравнений и получить смешанные стратегии обоих игроков, а также цену игры."
   ]
  },
  {
   "cell_type": "code",
   "execution_count": 6,
   "metadata": {},
   "outputs": [
    {
     "name": "stdout",
     "output_type": "stream",
     "text": [
      "Ответ: y = 1.50\n",
      "Смешанные стратегии игрока №1: P(0.5,0.5)\n",
      "Смешанные стратегии игрока №2: Q(0.5,0.5)\n"
     ]
    }
   ],
   "source": [
    "game2x2()"
   ]
  },
  {
   "cell_type": "code",
   "execution_count": null,
   "metadata": {},
   "outputs": [],
   "source": []
  }
 ],
 "metadata": {
  "kernelspec": {
   "display_name": "Python 3",
   "language": "python",
   "name": "python3"
  },
  "language_info": {
   "codemirror_mode": {
    "name": "ipython",
    "version": 3
   },
   "file_extension": ".py",
   "mimetype": "text/x-python",
   "name": "python",
   "nbconvert_exporter": "python",
   "pygments_lexer": "ipython3",
   "version": "3.7.4"
  }
 },
 "nbformat": 4,
 "nbformat_minor": 4
}
