{
 "cells": [
  {
   "cell_type": "markdown",
   "metadata": {},
   "source": [
    "### Принцип минимакса в решении игровых задач\n",
    "\n",
    "#### Основные понятия\n",
    "\n",
    "&#8195;&#8195; Во многих практических задачах возникают ситуации, когда требуется принять решение, не имея достаточной информации. Неизвестными могут быть как условия осуществления какой-либо операции, так и сознательные действия лиц, от которых зависит успех этой операции.\n",
    "\n",
    "&#8195;&#8195; Матричной игрой называется игра, осуществляемая по следующим правилам:\n",
    "- В игре участвуют два игрока;\n",
    "- Каждый из игроков обладает конечным набором стратегий;\n",
    "- Игра заключается в том, что каждый из игроков, не имея информации о действиях противника, делает один ход (выбирает одну из своих стратегий). Результатом выбора игроками стратегий является выигрыш и проигрыш в игре.\n",
    "- И выигрыш, и проигрыш выражаются числами.\n",
    "\n",
    "#### Матричная игра с нулевой суммой\n",
    "\n",
    "&#8195;&#8195; Матричная игра называется игрой с нулевой суммой, если в этой игре выигрыш одного игрока равняется проигрышу другого игрока.\n",
    "        \n",
    "&#8195;&#8195; Каждая матричная игра с нулевой суммой имеет платежную матрицу. Для того чтобы построить эту матрицу, обозначим одного из игроков символом A, а другого - символом B, и предположим, что $A_1$, $A_2$, ..., $A_m$ - стратегии, которые может применять игрок A, а $B_1$, $B_2$, ..., $B_n$ - стратегии, которые может применять игрок B.\n",
    "\n",
    "&#8195;&#8195; Матричная игра, в которой у игрока A имеется m стратегий, а у игрока B - n стратегий, называется игрой типа m$\\times$n.\n",
    "\n",
    "#### Нижняя и верхняя цена игры. Принцип минимакса\n",
    "\n",
    "Рассмотрим матричную игру типа m$\\times$n с платежной матрицей \n",
    "        \\begin{array}{cccc}\n",
    "            c_{11} & c_{12} & \\ldots & c_{1n}\\\\\n",
    "            c_{21} & c_{22} & \\ldots & c_{2n}\\\\\n",
    "            \\vdots & \\vdots & \\ddots & \\vdots\\\\\n",
    "            c_{m1} & c_{m2} & \\ldots & c_{mn}\n",
    "        \\end{array}\n",
    "        \n",
    "&#8195;&#8195; Если игрок A выберет стратегию $A_i$, то все его возможные выигрыши будут элементами i-й строки матрицы C. В наихудшем для игрока A случае, когда игрок B применяет стратегию, соответствующую минимальному элементу этой строки, выигрыш игрока A будет равен числу min $c_{ij}$, 1$\\leq$j$\\leq$n.\n",
    "    \n",
    "&#8195;&#8195; Следовательно, для получения наибольшего выигрыша, игроку A нужно выбирать ту из стратегий, для которой число min $c_{ij}$ (1$\\leq$j$\\leq$n) максимально. Это значение принятно считать нижней ценой игры.\n",
    "\n",
    "&#8195;&#8195;  Следовательно, игроку B нужно выбрать такую стратегию, для которой число max $c_{ij}$ (1$\\leq$i$\\leq$m) минимально. Это значение принято называть верхней ценой игры.\n",
    "\n",
    "#### Игры с седловой точкой\n",
    "\n",
    "Игра называется игрой с седловой точкой, если ее нижняя и верхняя цены совпадают, то есть выполняется равенство\n",
    "    \n",
    "&#8195;&#8195; $\\alpha$=max min $c_{ij}$=min max $c_{ij}$=$\\beta$, 1$\\leq$i$\\leq$m, 1$\\leq$j$\\leq$n\n",
    "    \n",
    "Для игры с седловой точкой общее значение нижней и верхней цены игры\n",
    "    \n",
    "&#8195;&#8195; V=$\\alpha$=$\\beta$\n",
    "\n",
    "называется ценой игры. Если седловая точка существует, то игра заканчивается после нахождения цены игры.\n",
    "\n",
    "&#8195;&#8195; Если селовая точка отсутствует, то в чистых стратегиях рассматриваемая игра не разрешима. Значит, результат этой игры определится в смешанных стратегиях.\n",
    "\n",
    "#### Теперь перейдем к практическому решению матричной игры.\n",
    "\n",
    "&#8195;&#8195; Для начала необходимо ввести матрицу, вы сможете сделать это ниже."
   ]
  },
  {
   "cell_type": "code",
   "execution_count": 1,
   "metadata": {},
   "outputs": [
    {
     "name": "stdout",
     "output_type": "stream",
     "text": [
      "1\n",
      "0\n",
      "-1\n",
      "2\n",
      "[[1, 0], [-1, 2]]\n"
     ]
    }
   ],
   "source": [
    "import pandas as pd\n",
    "from IPython.display import HTML\n",
    "import numpy as np\n",
    "\n",
    "m=2\n",
    "n=2\n",
    "a = [[int(input()) for j in range(m)] for i in range(n)]\n",
    "print(a)"
   ]
  },
  {
   "cell_type": "code",
   "execution_count": 2,
   "metadata": {},
   "outputs": [],
   "source": [
    "rows_cnt = len(a)\n",
    "cols_cnt = len(a[0])\n",
    " \n",
    "new_matix = [[0]*rows_cnt for _ in range(cols_cnt)]\n",
    " \n",
    "for i in range(rows_cnt):\n",
    "    for j in range(cols_cnt):\n",
    "        new_matix[j][i] = a[i][j]"
   ]
  },
  {
   "cell_type": "code",
   "execution_count": 3,
   "metadata": {},
   "outputs": [],
   "source": [
    "B = {\n",
    "   'B1': new_matix[0],\n",
    "    'B2': new_matix[1]\n",
    "}\n",
    "A = {'A1','A2'}\n"
   ]
  },
  {
   "cell_type": "code",
   "execution_count": 4,
   "metadata": {},
   "outputs": [],
   "source": [
    "import pandas as pd\n",
    "df = pd.DataFrame(data=B,index=A)"
   ]
  },
  {
   "cell_type": "markdown",
   "metadata": {},
   "source": [
    "#### Шаг №1 Получение платежной матрицы."
   ]
  },
  {
   "cell_type": "code",
   "execution_count": 5,
   "metadata": {},
   "outputs": [
    {
     "data": {
      "text/html": [
       "<style  type=\"text/css\" >\n",
       "    #T_074a044a_7e8a_11ea_8e70_a0c589fd1d3f tr:hover {\n",
       "          background-color: #ffff99;\n",
       "    }    #T_074a044a_7e8a_11ea_8e70_a0c589fd1d3f th {\n",
       "          font-size: 120%;\n",
       "          text-align: center;\n",
       "    }    #T_074a044a_7e8a_11ea_8e70_a0c589fd1d3f caption {\n",
       "          caption-side: bottom;\n",
       "    }    #T_074a044a_7e8a_11ea_8e70_a0c589fd1d3f tr {\n",
       "          font-size: 150%;\n",
       "          text-align: center;\n",
       "    }</style><table id=\"T_074a044a_7e8a_11ea_8e70_a0c589fd1d3f\" ><thead>    <tr>        <th class=\"blank level0\" ></th>        <th class=\"col_heading level0 col0\" >B1</th>        <th class=\"col_heading level0 col1\" >B2</th>    </tr></thead><tbody>\n",
       "                <tr>\n",
       "                        <th id=\"T_074a044a_7e8a_11ea_8e70_a0c589fd1d3flevel0_row0\" class=\"row_heading level0 row0\" >A2</th>\n",
       "                        <td id=\"T_074a044a_7e8a_11ea_8e70_a0c589fd1d3frow0_col0\" class=\"data row0 col0\" >1</td>\n",
       "                        <td id=\"T_074a044a_7e8a_11ea_8e70_a0c589fd1d3frow0_col1\" class=\"data row0 col1\" >0</td>\n",
       "            </tr>\n",
       "            <tr>\n",
       "                        <th id=\"T_074a044a_7e8a_11ea_8e70_a0c589fd1d3flevel0_row1\" class=\"row_heading level0 row1\" >A1</th>\n",
       "                        <td id=\"T_074a044a_7e8a_11ea_8e70_a0c589fd1d3frow1_col0\" class=\"data row1 col0\" >-1</td>\n",
       "                        <td id=\"T_074a044a_7e8a_11ea_8e70_a0c589fd1d3frow1_col1\" class=\"data row1 col1\" >2</td>\n",
       "            </tr>\n",
       "    </tbody></table>"
      ],
      "text/plain": [
       "<pandas.io.formats.style.Styler at 0x2ebd29f6a88>"
      ]
     },
     "execution_count": 5,
     "metadata": {},
     "output_type": "execute_result"
    }
   ],
   "source": [
    "def hover(hover_color=\"#ffff99\"):\n",
    "    return dict(selector=\"tr:hover\",\n",
    "                props=[(\"background-color\", \"%s\" % hover_color)])\n",
    "\n",
    "styles = [\n",
    "    hover(),\n",
    "    dict(selector=\"th\", props=[(\"font-size\", \"120%\"),\n",
    "                               (\"text-align\", \"center\")]),\n",
    "    dict(selector=\"caption\", props=[(\"caption-side\", \"bottom\")]),\n",
    "    dict(selector=\"tr\", props=[(\"font-size\", \"150%\"),\n",
    "                               (\"text-align\", \"center\")])\n",
    "]\n",
    "html = (df.style.set_table_styles(styles))\n",
    "html"
   ]
  },
  {
   "cell_type": "code",
   "execution_count": 13,
   "metadata": {},
   "outputs": [],
   "source": [
    "amins = []\n",
    "for i in range(1,3):\n",
    "    amins.append(df.loc[\"A\"+str(i)].min())\n",
    "\n",
    "bmaxs = []\n",
    "for i in range(1,3):\n",
    "    bmaxs.append(df[\"B\"+str(i)].max())\n"
   ]
  },
  {
   "cell_type": "code",
   "execution_count": 7,
   "metadata": {},
   "outputs": [],
   "source": [
    "df['a=min'] = amins\n",
    "df.loc['b=max'] = bmaxs + [np.nan]"
   ]
  },
  {
   "cell_type": "markdown",
   "metadata": {},
   "source": [
    "#### Шаг №2 Расчет максимальных и минимальных значений.\n",
    "\n",
    "&#8195;&#8195; На данном этапе необходимо рассчитать минимальные значения для каждой строки в матрице, а также максимальные значения для каждого столбца в матрице."
   ]
  },
  {
   "cell_type": "code",
   "execution_count": 8,
   "metadata": {},
   "outputs": [
    {
     "data": {
      "text/html": [
       "<style  type=\"text/css\" >\n",
       "    #T_075230f4_7e8a_11ea_b16b_a0c589fd1d3f tr:hover {\n",
       "          background-color: #ffff99;\n",
       "    }    #T_075230f4_7e8a_11ea_b16b_a0c589fd1d3f th {\n",
       "          font-size: 120%;\n",
       "          text-align: center;\n",
       "    }    #T_075230f4_7e8a_11ea_b16b_a0c589fd1d3f caption {\n",
       "          caption-side: bottom;\n",
       "    }    #T_075230f4_7e8a_11ea_b16b_a0c589fd1d3f tr {\n",
       "          font-size: 150%;\n",
       "          text-align: center;\n",
       "    }</style><table id=\"T_075230f4_7e8a_11ea_b16b_a0c589fd1d3f\" ><thead>    <tr>        <th class=\"blank level0\" ></th>        <th class=\"col_heading level0 col0\" >B1</th>        <th class=\"col_heading level0 col1\" >B2</th>        <th class=\"col_heading level0 col2\" >a=min</th>    </tr></thead><tbody>\n",
       "                <tr>\n",
       "                        <th id=\"T_075230f4_7e8a_11ea_b16b_a0c589fd1d3flevel0_row0\" class=\"row_heading level0 row0\" >A2</th>\n",
       "                        <td id=\"T_075230f4_7e8a_11ea_b16b_a0c589fd1d3frow0_col0\" class=\"data row0 col0\" >1</td>\n",
       "                        <td id=\"T_075230f4_7e8a_11ea_b16b_a0c589fd1d3frow0_col1\" class=\"data row0 col1\" >0</td>\n",
       "                        <td id=\"T_075230f4_7e8a_11ea_b16b_a0c589fd1d3frow0_col2\" class=\"data row0 col2\" >-1</td>\n",
       "            </tr>\n",
       "            <tr>\n",
       "                        <th id=\"T_075230f4_7e8a_11ea_b16b_a0c589fd1d3flevel0_row1\" class=\"row_heading level0 row1\" >A1</th>\n",
       "                        <td id=\"T_075230f4_7e8a_11ea_b16b_a0c589fd1d3frow1_col0\" class=\"data row1 col0\" >-1</td>\n",
       "                        <td id=\"T_075230f4_7e8a_11ea_b16b_a0c589fd1d3frow1_col1\" class=\"data row1 col1\" >2</td>\n",
       "                        <td id=\"T_075230f4_7e8a_11ea_b16b_a0c589fd1d3frow1_col2\" class=\"data row1 col2\" >0</td>\n",
       "            </tr>\n",
       "            <tr>\n",
       "                        <th id=\"T_075230f4_7e8a_11ea_b16b_a0c589fd1d3flevel0_row2\" class=\"row_heading level0 row2\" >b=max</th>\n",
       "                        <td id=\"T_075230f4_7e8a_11ea_b16b_a0c589fd1d3frow2_col0\" class=\"data row2 col0\" >1</td>\n",
       "                        <td id=\"T_075230f4_7e8a_11ea_b16b_a0c589fd1d3frow2_col1\" class=\"data row2 col1\" >2</td>\n",
       "                        <td id=\"T_075230f4_7e8a_11ea_b16b_a0c589fd1d3frow2_col2\" class=\"data row2 col2\" >nan</td>\n",
       "            </tr>\n",
       "    </tbody></table>"
      ],
      "text/plain": [
       "<pandas.io.formats.style.Styler at 0x2ebe30d52c8>"
      ]
     },
     "execution_count": 8,
     "metadata": {},
     "output_type": "execute_result"
    }
   ],
   "source": [
    "html = (df.style.set_table_styles(styles))\n",
    "html"
   ]
  },
  {
   "cell_type": "markdown",
   "metadata": {},
   "source": [
    "#### Шаг №3 Поиск нижней и верхней цены игры\n",
    "\n",
    "Для нахождения верхней  нижней цены игры требуется:\n",
    "- Для нижней цены игры необходимо найти максимум среди минимальных в строках;\n",
    "- Для верхней цены игры необходимо найти минимум среди максимумов по столбцам.\n",
    "\n",
    "Седловая точка будет существовать только в том случае, если нижняя и верхняя границы равны."
   ]
  },
  {
   "cell_type": "code",
   "execution_count": 9,
   "metadata": {},
   "outputs": [
    {
     "name": "stdout",
     "output_type": "stream",
     "text": [
      "Нижняя цена игры: 0\n",
      "Верхняя цена игры: 1\n",
      "\n",
      "Cедловой точки не существует, игра решится в смешанных стратегиях\n"
     ]
    }
   ],
   "source": [
    "sed_point = False\n",
    "\n",
    "max_point = max(amins)\n",
    "min_point = min(bmaxs)\n",
    "\n",
    "print(\"Нижняя цена игры: \" + str(max_point))\n",
    "print(\"Верхняя цена игры: \" + str(min_point))\n",
    "\n",
    "if (max_point == min_point):\n",
    "    print(\"Седловая точка существует, игра закончится в чистых стратегиях\")\n",
    "    print(\"Цена игры: \" + str(max_point))\n",
    "    sed_point = True\n",
    "else:\n",
    "    print(\"\")\n",
    "    print(\"Cедловой точки не существует, игра решится в смешанных стратегиях\")"
   ]
  },
  {
   "cell_type": "markdown",
   "metadata": {},
   "source": [
    "#### Шаг №4 Находим решение игры в смешанных стратегиях.\n",
    "Запишем систему уравнений.\n",
    "Для игрока 1:\n",
    "\\begin{equation*}\n",
    " \\begin{cases}\n",
    "   c_{11}p_1+c_{21}p_2=V, \\\\ \n",
    "   c_{12}p_1+c_{22}p_2=V, \\\\\n",
    "   p_1+p_2=1,\n",
    " \\end{cases}\n",
    "\\end{equation*}\n",
    "\n",
    "Решение которой имеет вид:\n",
    "\\begin{equation*}\n",
    " \\begin{cases}\n",
    "   p_1=\\frac{c_{22}-c_{21}}{c_{11}+c_{22}-c_{12}-c_{21}}, \\\\ \n",
    "   p_2=\\frac{c_{11}-c_{12}}{c_{11}+c_{22}-c_{12}-c_{21}}, \\\\\n",
    "   V=\\frac{c_{11}\\cdot c_{22}-c_{12}\\cdot c_{21}}{c_{11}+c_{22}-c_{12}-c_{21}}, \\\\\n",
    " \\end{cases}\n",
    "\\end{equation*}\n",
    "\n",
    "Аналогичным образом можно найти оптимальную стратегию игрока 2:\n",
    "\\begin{equation*}\n",
    " \\begin{cases}\n",
    "   c_{11}q_1+c_{12}q_2=V, \\\\ \n",
    "   c_{21}q_1+c_{22}q_2=V, \\\\\n",
    "   q_1+q_2=1, \\\\\n",
    " \\end{cases}\n",
    "\\end{equation*}\n",
    "\n",
    "Решение которой имеет вид:\n",
    "\\begin{equation*}\n",
    " \\begin{cases}\n",
    "   q_1=\\frac{c_{22}-c_{12}}{c_{11}+c_{22}-c_{12}-c_{21}}, \\\\ \n",
    "   q_2=\\frac{c_{11}-c_{21}}{c_{11}+c_{22}-c_{12}-c_{21}}, \\\\\n",
    "   V=\\frac{c_{11}\\cdot c_{22}-c_{12}\\cdot c_{21}}{c_{11}+c_{22}-c_{12}-c_{21}}, \\\\\n",
    " \\end{cases}\n",
    "\\end{equation*}\n",
    "\n"
   ]
  },
  {
   "cell_type": "markdown",
   "metadata": {},
   "source": [
    "#### Затем необходимо решить полученные системы уравнений и узнать стратегии игроков"
   ]
  },
  {
   "cell_type": "code",
   "execution_count": 10,
   "metadata": {},
   "outputs": [],
   "source": [
    "if (sed_point == False):\n",
    "    p1 = (a[1][1] - a[1][0])/(a[0][0]+a[1][1] - a[1][0] - a[0][1])\n",
    "    p2 = (a[0][0] - a[0][1])/(a[0][0]+a[1][1] - a[1][0] - a[0][1])\n",
    "    \n",
    "    q1 = (a[1][1] - a[0][1])/(a[0][0]+a[1][1] - a[1][0] - a[0][1])\n",
    "    q2 = (a[0][0] - a[1][0])/(a[0][0]+a[1][1] - a[1][0] - a[0][1])\n",
    "    \n",
    "    y = (a[0][0]*a[1][1] - a[0][1]*a[1][0])/(a[0][0]+a[1][1] - a[1][0] - a[0][1])"
   ]
  },
  {
   "cell_type": "code",
   "execution_count": 11,
   "metadata": {},
   "outputs": [
    {
     "name": "stdout",
     "output_type": "stream",
     "text": [
      "Ответ: y = 0.5\n",
      "Смешанные стратегии игрока №1: P(0.75,0.25)\n",
      "Смешанные стратегии игрока №2: Q(0.5,0.5)\n"
     ]
    }
   ],
   "source": [
    "print(\"Ответ: y = \"+ str(y))\n",
    "print(\"Смешанные стратегии игрока №1: P(\" + str(p1) + \",\" + str(p2) + \")\")\n",
    "print(\"Смешанные стратегии игрока №2: Q(\" + str(q1) + \",\" + str(q2) + \")\")"
   ]
  },
  {
   "cell_type": "code",
   "execution_count": 12,
   "metadata": {},
   "outputs": [
    {
     "data": {
      "text/html": [
       "<script>\n",
       "code_show=true; \n",
       "function code_toggle() {\n",
       " if (code_show){\n",
       " $('div.input').hide();\n",
       " } else {\n",
       " $('div.input').show();\n",
       " }\n",
       " code_show = !code_show\n",
       "} \n",
       "$( document ).ready(code_toggle);\n",
       "</script>\n",
       "<form action=\"javascript:code_toggle()\"><input type=\"submit\" value=\"Нажмите на кнопку чтобы увидеть код\"></form>"
      ],
      "text/plain": [
       "<IPython.core.display.HTML object>"
      ]
     },
     "execution_count": 12,
     "metadata": {},
     "output_type": "execute_result"
    }
   ],
   "source": [
    "import ipywidgets as widgets\n",
    "from ipywidgets import interactive\n",
    "from IPython.display import HTML\n",
    "\n",
    "HTML('''<script>\n",
    "code_show=true; \n",
    "function code_toggle() {\n",
    " if (code_show){\n",
    " $('div.input').hide();\n",
    " } else {\n",
    " $('div.input').show();\n",
    " }\n",
    " code_show = !code_show\n",
    "} \n",
    "$( document ).ready(code_toggle);\n",
    "</script>\n",
    "<form action=\"javascript:code_toggle()\"><input type=\"submit\" value=\"Нажмите на кнопку чтобы увидеть код\"></form>''')"
   ]
  }
 ],
 "metadata": {
  "kernelspec": {
   "display_name": "Python 3",
   "language": "python",
   "name": "python3"
  },
  "language_info": {
   "codemirror_mode": {
    "name": "ipython",
    "version": 3
   },
   "file_extension": ".py",
   "mimetype": "text/x-python",
   "name": "python",
   "nbconvert_exporter": "python",
   "pygments_lexer": "ipython3",
   "version": "3.7.4"
  }
 },
 "nbformat": 4,
 "nbformat_minor": 4
}
