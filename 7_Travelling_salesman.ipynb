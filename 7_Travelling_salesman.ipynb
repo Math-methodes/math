{
 "cells": [
  {
   "cell_type": "code",
   "execution_count": 1,
   "metadata": {},
   "outputs": [
    {
     "data": {
      "text/html": [
       "<script>\n",
       "code_show=true; \n",
       "function code_toggle() {\n",
       " if (code_show){\n",
       " $('div.input').hide();\n",
       " } else {\n",
       " $('div.input').show();\n",
       " }\n",
       " code_show = !code_show\n",
       "} \n",
       "$( document ).ready(code_toggle);\n",
       "</script>\n",
       "<form action=\"javascript:code_toggle()\"><input type=\"submit\" value=\"Нажмите чтобы отобразить/скрыть код.\"></form>"
      ],
      "text/plain": [
       "<IPython.core.display.HTML object>"
      ]
     },
     "execution_count": 1,
     "metadata": {},
     "output_type": "execute_result"
    }
   ],
   "source": [
    "import networkx as nx\n",
    "import numpy as np\n",
    "import matplotlib.pyplot as plt\n",
    "from networkx.drawing.layout import spring_layout\n",
    "from IPython.display import HTML\n",
    "import dwave_networkx as dnx\n",
    "import dimod\n",
    "import warnings\n",
    "warnings.simplefilter('ignore')\n",
    "\n",
    "%matplotlib notebook\n",
    "\n",
    "HTML('''<script>\n",
    "code_show=true; \n",
    "function code_toggle() {\n",
    " if (code_show){\n",
    " $('div.input').hide();\n",
    " } else {\n",
    " $('div.input').show();\n",
    " }\n",
    " code_show = !code_show\n",
    "} \n",
    "$( document ).ready(code_toggle);\n",
    "</script>\n",
    "<form action=\"javascript:code_toggle()\"><input type=\"submit\" value=\"Нажмите чтобы отобразить/скрыть код.\"></form>''')"
   ]
  },
  {
   "cell_type": "markdown",
   "metadata": {},
   "source": [
    "# Задача коммивояжера\n",
    "<br>&#8195;&#8195;В задаче коммивояжера рассматривается ݊ городов  и мат‐ рица попарных расстояний между ними. Требуется найти такой порядок  посещения  городов,  чтобы  суммарное  пройденное  расстоя‐ ние было минимальным, каждый город посещался ровно один раз и  коммивояжер  вернулся  в  тот  город,  с  которого  начал  свой  мар‐ шрут.  Другими  словами,  во  взвешенном  полном  графе  требуется найти гамильтонов цикл минимального веса. \n",
    "<br>&#8195;&#8195;Задача  коммивояжера  занимает  особое  место  в  комбина‐ торной  оптимизации  и  исследовании  операций.  Исторически  она была одной из тех задач, которые послужили толчком для развития этих направлений. Простота формулировки, конечность множества допустимых  решений,  наглядность  и,  в  тоже  время,  колоссальные затраты на полный перебор до сих пор подталкивают математиков к  разработке  все  новых  и  новых  численных  методов.  Фактически, все  свежие  идеи  сначала  тестируются  на  этой  задаче.  С  точки  зре‐ ния  приложений,  она  не  представляет  интерес.  Куда  важнее  её обобщения  для  транспорта  и  логистики,  когда  несколько  транс‐ портных  средств  ограниченной  грузоподъемности  должны  обслу‐ живать клиентов, посещая их в заданные временные окна. В задаче коммивояжера  выброшены  все  детали  приложений.  Оставлена только комбинаторная  суть, чисто математическая  проблема,  с ко‐ торой не удается справиться уже полвека. Именно этой задаче по‐ священа данная глава."
   ]
  },
  {
   "cell_type": "markdown",
   "metadata": {},
   "source": [
    "## Представление в виде графа\n",
    "Симметричная задача для четырёх городов. Для возможности применения математического аппарата для решения проблемы её следует представить в виде математической модели. Проблему коммивояжёра можно представить в виде модели на графе, то есть, используя вершины и ребра между ними. Таким образом, вершины графа соответствуют городам, а рёбра (i,j) между вершинами i и j — пути сообщения между этими городами. Каждому ребру (i,j) можно сопоставить критерий выгодности маршрута $C_{i,j}$, который можно понимать как, например, расстояние между городами, время или стоимость поездки. \n",
    "<br>&#8195;&#8195;Гамильтоновым циклом называется маршрут, включающий ровно по одному разу каждую вершину графа. \n",
    "<br>&#8195;&#8195;В целях упрощения задачи и гарантии существования маршрута обычно считается, что модельный граф задачи является полностью связным, то есть, что между произвольной парой вершин существует ребро. В тех случаях, когда между отдельными городами не существует сообщения, этого можно достичь путём ввода рёбер с максимальной длиной. Из-за большой длины такое ребро никогда не попадет к оптимальному маршруту, если он существует. \n",
    "<br>&#8195;&#8195;Таким образом, решение задачи коммивояжёра — это нахождение гамильтонова цикла минимального веса в полном взвешенном графе. В зависимости от того, какой критерий выгодности маршрута сопоставляется величине ребер, различают различные варианты задачи, важнейшими из которых являются симметричная и метрическая задачи."
   ]
  },
  {
   "cell_type": "markdown",
   "metadata": {},
   "source": [
    "## Алгоритм ближайшего соседа\n",
    "<br>&#8195;&#8195;Алгоритм ближайшего соседа — один из простейших эвристических алгоритмов решения задачи коммивояжёра. Относится к категории «жадных» алгоритмов.\n",
    "<br>&#8195;&#8195;Формулируется следующим образом:\n",
    "<br>&#8195;&#8195;Пункты обхода плана последовательно включаются в маршрут, причем каждый очередной включаемый пункт должен быть ближайшим к последнему выбранному пункту среди всех остальных, ещё не включенных в состав маршрута.\n",
    "<br>&#8195;&#8195;Для любого количества городов, большего трех, в задаче коммивояжёра можно подобрать такое расположение городов (значение расстояний между вершинами графа и указание начальной вершины), что алгоритм ближайшего соседа будет выдавать наихудшее решение."
   ]
  },
  {
   "cell_type": "code",
   "execution_count": 2,
   "metadata": {},
   "outputs": [],
   "source": [
    "import numpy as np\n",
    "import cvxpy as cp\n",
    "import pandas as pd\n",
    "import urllib\n",
    "import networkx as nx\n",
    "from matplotlib import pyplot as plt"
   ]
  },
  {
   "cell_type": "code",
   "execution_count": 13,
   "metadata": {},
   "outputs": [
    {
     "data": {
      "image/png": "[encoded data removed]",
      "text/plain": [
       "<Figure size 432x288 with 1 Axes>"
      ]
     },
     "metadata": {},
     "output_type": "display_data"
    }
   ],
   "source": [
    "G = nx.Graph()\n",
    "\n",
    "for i in range(4):\n",
    "    G.add_node(i)\n",
    "\n",
    "G.add_weighted_edges_from({(0, 1, .1), (0, 2, .5), (0, 3, .1), (1, 2, .1),(1, 3, .5), (2, 3, .1)})\n",
    "\n",
    "pos=nx.spring_layout(G)\n",
    "nx.draw(G,pos,edge_color='black',width=1,linewidths=1,node_size=500,node_color='pink',alpha=0.9,labels={node:node for node in G.nodes()}) #Отрисовка графа\n",
    "labels = nx.get_edge_attributes(G,'weight')\n",
    "nx.draw_networkx_edge_labels(G,pos,edge_labels=labels)\n",
    "plt.show()"
   ]
  },
  {
   "cell_type": "code",
   "execution_count": 16,
   "metadata": {},
   "outputs": [
    {
     "data": {
      "text/plain": [
       "[0, 1, 2, 3]"
      ]
     },
     "execution_count": 16,
     "metadata": {},
     "output_type": "execute_result"
    }
   ],
   "source": [
    "import dwave_networkx as dnx\n",
    "import dimod\n",
    "dnx.traveling_salesperson(G, dimod.ExactSolver(), start=0)"
   ]
  },
  {
   "cell_type": "code",
   "execution_count": null,
   "metadata": {},
   "outputs": [],
   "source": []
  },
  {
   "cell_type": "code",
   "execution_count": null,
   "metadata": {},
   "outputs": [],
   "source": []
  }
 ],
 "metadata": {
  "kernelspec": {
   "display_name": "Python 3",
   "language": "python",
   "name": "python3"
  },
  "language_info": {
   "codemirror_mode": {
    "name": "ipython",
    "version": 3
   },
   "file_extension": ".py",
   "mimetype": "text/x-python",
   "name": "python",
   "nbconvert_exporter": "python",
   "pygments_lexer": "ipython3",
   "version": "3.7.4"
  }
 },
 "nbformat": 4,
 "nbformat_minor": 2
}
