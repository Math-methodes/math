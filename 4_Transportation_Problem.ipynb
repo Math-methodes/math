{
 "cells": [
  {
   "cell_type": "code",
   "execution_count": 1,
   "metadata": {},
   "outputs": [
    {
     "data": {
      "text/html": [
       "<script>\n",
       "code_show=true; \n",
       "function code_toggle() {\n",
       " if (code_show){\n",
       " $('div.input').hide();\n",
       " } else {\n",
       " $('div.input').show();\n",
       " }\n",
       " code_show = !code_show\n",
       "} \n",
       "$( document ).ready(code_toggle);\n",
       "</script>\n",
       "<form action=\"javascript:code_toggle()\"><input type=\"submit\" value=\"Нажмите чтобы отобразить/скрыть код.\"></form>"
      ],
      "text/plain": [
       "<IPython.core.display.HTML object>"
      ]
     },
     "execution_count": 1,
     "metadata": {},
     "output_type": "execute_result"
    }
   ],
   "source": [
    "import pandas as pd\n",
    "import numpy as np\n",
    "\n",
    "from IPython.display import HTML\n",
    "import warnings\n",
    "warnings.simplefilter('ignore')\n",
    "\n",
    "%matplotlib notebook\n",
    "\n",
    "HTML('''<script>\n",
    "code_show=true; \n",
    "function code_toggle() {\n",
    " if (code_show){\n",
    " $('div.input').hide();\n",
    " } else {\n",
    " $('div.input').show();\n",
    " }\n",
    " code_show = !code_show\n",
    "} \n",
    "$( document ).ready(code_toggle);\n",
    "</script>\n",
    "<form action=\"javascript:code_toggle()\"><input type=\"submit\" value=\"Нажмите чтобы отобразить/скрыть код.\"></form>''')"
   ]
  },
  {
   "cell_type": "code",
   "execution_count": 2,
   "metadata": {},
   "outputs": [],
   "source": [
    "demand = np.array([30,40,30])\n",
    "supply = np.array([15,15,70])"
   ]
  },
  {
   "cell_type": "code",
   "execution_count": 3,
   "metadata": {},
   "outputs": [],
   "source": [
    "#gen_data = np.random.randint(1, 10, len(supply)*len(demand))\n",
    "gen_data = ([1,2,6],\n",
    "            [5,3,4],\n",
    "            [4,5,7])"
   ]
  },
  {
   "cell_type": "code",
   "execution_count": 4,
   "metadata": {},
   "outputs": [],
   "source": [
    "costs = np.reshape(gen_data, (-1, len(demand)))\n",
    "my_costs = costs.copy"
   ]
  },
  {
   "cell_type": "code",
   "execution_count": 5,
   "metadata": {},
   "outputs": [],
   "source": [
    "def illstr_table(dmnd, sply):\n",
    "    i_table = pd.DataFrame(costs, columns=dmnd, index=sply)\n",
    "    for i in range(len(dmnd)):\n",
    "        i_table.rename(columns={'0': str(dmnd[i])})\n",
    "    return i_table"
   ]
  },
  {
   "cell_type": "markdown",
   "metadata": {},
   "source": [
    "# Транспортная задача\n",
    "\n",
    "## Постановка транспортной задачи\n",
    "\n",
    "<br>&#8195;&#8195;Транспортная задача - это математическая задача линейного программирования специального\n",
    "вида о поиске оптимального распределения однородных объектов с минимизацией затрат на перемещение.\n",
    "     \n",
    "<br>&#8195;&#8195;Имеется ${m}$ поставщиков $A_1$, $A_2$, ..., $A_m$, у которых сосредоточены запасы одного и того же груза в количестве $a_1$, $a_2$, ..., $a_m$ единиц, соответственно. Этот груз нужно доставить ${n}$ потребителям $B_1$, $B_2$, ..., $B_n$, заказавшим $b_1$, $b_2$, ..., $b_n$ единиц этого груза, соответственно. Известны также все тарифы перевозок груза $c_{ij}$ (стоимость перевозок единицы груза) от поставщика $A_i$ к потребителю $B_j$. Требуется составить такой план перевозок, при котором общая стоимость всех перевозок была бы минимальной."
   ]
  },
  {
   "cell_type": "code",
   "execution_count": 6,
   "metadata": {},
   "outputs": [
    {
     "data": {
      "text/html": [
       "<div>\n",
       "<style scoped>\n",
       "    .dataframe tbody tr th:only-of-type {\n",
       "        vertical-align: middle;\n",
       "    }\n",
       "\n",
       "    .dataframe tbody tr th {\n",
       "        vertical-align: top;\n",
       "    }\n",
       "\n",
       "    .dataframe thead th {\n",
       "        text-align: right;\n",
       "    }\n",
       "</style>\n",
       "<table border=\"1\" class=\"dataframe\">\n",
       "  <thead>\n",
       "    <tr style=\"text-align: right;\">\n",
       "      <th></th>\n",
       "      <th>30</th>\n",
       "      <th>40</th>\n",
       "      <th>30</th>\n",
       "    </tr>\n",
       "  </thead>\n",
       "  <tbody>\n",
       "    <tr>\n",
       "      <td>15</td>\n",
       "      <td>1</td>\n",
       "      <td>2</td>\n",
       "      <td>6</td>\n",
       "    </tr>\n",
       "    <tr>\n",
       "      <td>15</td>\n",
       "      <td>5</td>\n",
       "      <td>3</td>\n",
       "      <td>4</td>\n",
       "    </tr>\n",
       "    <tr>\n",
       "      <td>70</td>\n",
       "      <td>4</td>\n",
       "      <td>5</td>\n",
       "      <td>7</td>\n",
       "    </tr>\n",
       "  </tbody>\n",
       "</table>\n",
       "</div>"
      ],
      "text/plain": [
       "    30  40  30\n",
       "15   1   2   6\n",
       "15   5   3   4\n",
       "70   4   5   7"
      ]
     },
     "execution_count": 6,
     "metadata": {},
     "output_type": "execute_result"
    }
   ],
   "source": [
    "illstr_table(demand, supply) #illustration"
   ]
  },
  {
   "cell_type": "markdown",
   "metadata": {},
   "source": [
    "## Решение транспортной задачи\n",
    "<br>&#8195;&#8195;Решение транспортной задачи начинается с выяснения вопроса о том, является ли задача открытой или закрытой.\n",
    "    \n",
    "<br>&#8195;&#8195;Если задача является открытой, то необходимо провести процедуру закрытия задачи. С этой целью при a<b добавляем фиктивного поставщика $A'_{m+1}$ с запасом груза $a'_{m+1}=b-a$. Если же a>b, то добавляем фиктивного потребителя $B'_{n+1}$ с заказом груза $b'_{n+1}=a-b$.\n",
    "    \n",
    "<br>&#8195;&#8195;В обоих случаях соответствующие фиктивным объектам тарифы перевозок $c'_{ij}$ полагаем равными нулю. В результате суммарная стоимость перевозок Z не изменяется."
   ]
  },
  {
   "cell_type": "code",
   "execution_count": 7,
   "metadata": {},
   "outputs": [],
   "source": [
    "def check_balanced(dmnd, sply):\n",
    "    return \"Открытая\" if sum(dmnd)==sum(sply) else \"Закрытая\""
   ]
  },
  {
   "cell_type": "code",
   "execution_count": 8,
   "metadata": {},
   "outputs": [
    {
     "data": {
      "text/plain": [
       "'Открытая'"
      ]
     },
     "execution_count": 8,
     "metadata": {},
     "output_type": "execute_result"
    }
   ],
   "source": [
    "check_balanced(demand, supply)"
   ]
  },
  {
   "cell_type": "markdown",
   "metadata": {},
   "source": [
    "Транспортная задача относится к задачам линейного программирования, и ее можно было бы решить симплекс-методом. Но поскольку система огра- ничений транспортной задачи проще, чем система ограничений ОЗЛП, то это дает возможность вместо использования объемных симплекс-таблиц применить более удобный метод, который состоит из следующих этапов:\n",
    "    \n",
    "    1. Составление первоначального плана перевозок.\n",
    "    \n",
    "    2. Последовательные улучшения плана перевозок (перераспределение\n",
    "поставок) до тех пор, пока план перевозок не станет оптимальным."
   ]
  },
  {
   "cell_type": "code",
   "execution_count": 9,
   "metadata": {},
   "outputs": [
    {
     "data": {
      "text/html": [
       "<div>\n",
       "<style scoped>\n",
       "    .dataframe tbody tr th:only-of-type {\n",
       "        vertical-align: middle;\n",
       "    }\n",
       "\n",
       "    .dataframe tbody tr th {\n",
       "        vertical-align: top;\n",
       "    }\n",
       "\n",
       "    .dataframe thead th {\n",
       "        text-align: right;\n",
       "    }\n",
       "</style>\n",
       "<table border=\"1\" class=\"dataframe\">\n",
       "  <thead>\n",
       "    <tr style=\"text-align: right;\">\n",
       "      <th></th>\n",
       "      <th>30</th>\n",
       "      <th>40</th>\n",
       "      <th>30</th>\n",
       "    </tr>\n",
       "  </thead>\n",
       "  <tbody>\n",
       "    <tr>\n",
       "      <td>15</td>\n",
       "      <td>-</td>\n",
       "      <td>-</td>\n",
       "      <td>-</td>\n",
       "    </tr>\n",
       "    <tr>\n",
       "      <td>15</td>\n",
       "      <td>-</td>\n",
       "      <td>-</td>\n",
       "      <td>-</td>\n",
       "    </tr>\n",
       "    <tr>\n",
       "      <td>70</td>\n",
       "      <td>-</td>\n",
       "      <td>-</td>\n",
       "      <td>-</td>\n",
       "    </tr>\n",
       "  </tbody>\n",
       "</table>\n",
       "</div>"
      ],
      "text/plain": [
       "   30 40 30\n",
       "15  -  -  -\n",
       "15  -  -  -\n",
       "70  -  -  -"
      ]
     },
     "metadata": {},
     "output_type": "display_data"
    }
   ],
   "source": [
    "display(illstr_table(demand, supply).replace(costs, '-'))"
   ]
  },
  {
   "cell_type": "code",
   "execution_count": 10,
   "metadata": {},
   "outputs": [],
   "source": [
    "def change_row_v_for_illstr(t, i):\n",
    "    for j in range(len(t.columns)):\n",
    "        if t.values[i][j] == '-': \n",
    "            t.iat[i,j] = '+'\n",
    "\n",
    "def change_column_v_for_illstr(t, j):\n",
    "    for i in range(len(t.index)):\n",
    "         if t.values[i][j] == '-': \n",
    "                t.iat[i,j] = '+'\n",
    "                \n",
    "def solution(dmnd, sply):  \n",
    "    fg = 0\n",
    "    cap_coord = []\n",
    "    table = illstr_table(dmnd, sply).replace(costs, '-')\n",
    "    display(table)\n",
    "    for i in range(len(sply)):\n",
    "        for j in range(len(dmnd)):\n",
    "            if j != fg:\n",
    "                continue\n",
    "            fg += 1\n",
    "            cell_v = min(sply[i], dmnd[j])\n",
    "            sply[i] -= cell_v\n",
    "            dmnd[j] -= cell_v\n",
    "            table.index = sply\n",
    "            table.columns = dmnd\n",
    "            cap_coord.append([cell_v, [i,j]])\n",
    "            if sply[i] == 0:\n",
    "                fg = j\n",
    "                change_row_v_for_illstr(table, i)\n",
    "                table.iat[i,j] = cell_v\n",
    "                display(table)\n",
    "                break\n",
    "            else: \n",
    "                change_column_v_for_illstr(table, j)\n",
    "                table.iat[i,j] = cell_v\n",
    "                display(table)\n",
    "    return cap_coord"
   ]
  },
  {
   "cell_type": "code",
   "execution_count": 11,
   "metadata": {},
   "outputs": [],
   "source": [
    "def get_ans(cap_coord, csts):\n",
    "    summ=0\n",
    "    route = []\n",
    "    for cap, coord in cap_coord:\n",
    "        summ += csts[coord[0]][coord[1]]*cap\n",
    "        route.append(coord)\n",
    "    return summ, route"
   ]
  },
  {
   "cell_type": "markdown",
   "metadata": {},
   "source": [
    "## Составление первоначального плана перевозок с помощью метода северо-западного угла\n",
    "<br>&#8195;&#8195;Составление первоначального плана перевозок начнем с перевозки запасов поставщика $A_1$. Будем за счет его запасов максимально возможно удовлетворять заказы сначала потребителя $B_1$, затем $B_2$ и так далее. Таким образом, мы будем заполнять таблицу, начиная с клетки (1,1), и двигаться вправо по строке до тех пор, пока остаток запасов поставщика $A_1$ не окажется меньше заказа очередного потребителя. Для выполнения этого заказа используем остатки запаса первого поставщика, а недостающую часть добавим из запасов поставщика $A_2$, то есть переместимся на следующую строку таблицы по столбцу, соответствующему указанному потребителю. Далее аналогичным образом распределим запасы поставщика $A_2$, затем $A_3$ и так далее."
   ]
  },
  {
   "cell_type": "code",
   "execution_count": 12,
   "metadata": {
    "scrolled": false
   },
   "outputs": [
    {
     "data": {
      "text/html": [
       "<div>\n",
       "<style scoped>\n",
       "    .dataframe tbody tr th:only-of-type {\n",
       "        vertical-align: middle;\n",
       "    }\n",
       "\n",
       "    .dataframe tbody tr th {\n",
       "        vertical-align: top;\n",
       "    }\n",
       "\n",
       "    .dataframe thead th {\n",
       "        text-align: right;\n",
       "    }\n",
       "</style>\n",
       "<table border=\"1\" class=\"dataframe\">\n",
       "  <thead>\n",
       "    <tr style=\"text-align: right;\">\n",
       "      <th></th>\n",
       "      <th>30</th>\n",
       "      <th>40</th>\n",
       "      <th>30</th>\n",
       "    </tr>\n",
       "  </thead>\n",
       "  <tbody>\n",
       "    <tr>\n",
       "      <td>15</td>\n",
       "      <td>-</td>\n",
       "      <td>-</td>\n",
       "      <td>-</td>\n",
       "    </tr>\n",
       "    <tr>\n",
       "      <td>15</td>\n",
       "      <td>-</td>\n",
       "      <td>-</td>\n",
       "      <td>-</td>\n",
       "    </tr>\n",
       "    <tr>\n",
       "      <td>70</td>\n",
       "      <td>-</td>\n",
       "      <td>-</td>\n",
       "      <td>-</td>\n",
       "    </tr>\n",
       "  </tbody>\n",
       "</table>\n",
       "</div>"
      ],
      "text/plain": [
       "   30 40 30\n",
       "15  -  -  -\n",
       "15  -  -  -\n",
       "70  -  -  -"
      ]
     },
     "metadata": {},
     "output_type": "display_data"
    },
    {
     "data": {
      "text/html": [
       "<div>\n",
       "<style scoped>\n",
       "    .dataframe tbody tr th:only-of-type {\n",
       "        vertical-align: middle;\n",
       "    }\n",
       "\n",
       "    .dataframe tbody tr th {\n",
       "        vertical-align: top;\n",
       "    }\n",
       "\n",
       "    .dataframe thead th {\n",
       "        text-align: right;\n",
       "    }\n",
       "</style>\n",
       "<table border=\"1\" class=\"dataframe\">\n",
       "  <thead>\n",
       "    <tr style=\"text-align: right;\">\n",
       "      <th></th>\n",
       "      <th>15</th>\n",
       "      <th>40</th>\n",
       "      <th>30</th>\n",
       "    </tr>\n",
       "  </thead>\n",
       "  <tbody>\n",
       "    <tr>\n",
       "      <td>0</td>\n",
       "      <td>15</td>\n",
       "      <td>+</td>\n",
       "      <td>+</td>\n",
       "    </tr>\n",
       "    <tr>\n",
       "      <td>15</td>\n",
       "      <td>-</td>\n",
       "      <td>-</td>\n",
       "      <td>-</td>\n",
       "    </tr>\n",
       "    <tr>\n",
       "      <td>70</td>\n",
       "      <td>-</td>\n",
       "      <td>-</td>\n",
       "      <td>-</td>\n",
       "    </tr>\n",
       "  </tbody>\n",
       "</table>\n",
       "</div>"
      ],
      "text/plain": [
       "    15 40 30\n",
       "0   15  +  +\n",
       "15   -  -  -\n",
       "70   -  -  -"
      ]
     },
     "metadata": {},
     "output_type": "display_data"
    },
    {
     "data": {
      "text/html": [
       "<div>\n",
       "<style scoped>\n",
       "    .dataframe tbody tr th:only-of-type {\n",
       "        vertical-align: middle;\n",
       "    }\n",
       "\n",
       "    .dataframe tbody tr th {\n",
       "        vertical-align: top;\n",
       "    }\n",
       "\n",
       "    .dataframe thead th {\n",
       "        text-align: right;\n",
       "    }\n",
       "</style>\n",
       "<table border=\"1\" class=\"dataframe\">\n",
       "  <thead>\n",
       "    <tr style=\"text-align: right;\">\n",
       "      <th></th>\n",
       "      <th>0</th>\n",
       "      <th>40</th>\n",
       "      <th>30</th>\n",
       "    </tr>\n",
       "  </thead>\n",
       "  <tbody>\n",
       "    <tr>\n",
       "      <td>0</td>\n",
       "      <td>15</td>\n",
       "      <td>+</td>\n",
       "      <td>+</td>\n",
       "    </tr>\n",
       "    <tr>\n",
       "      <td>0</td>\n",
       "      <td>15</td>\n",
       "      <td>+</td>\n",
       "      <td>+</td>\n",
       "    </tr>\n",
       "    <tr>\n",
       "      <td>70</td>\n",
       "      <td>-</td>\n",
       "      <td>-</td>\n",
       "      <td>-</td>\n",
       "    </tr>\n",
       "  </tbody>\n",
       "</table>\n",
       "</div>"
      ],
      "text/plain": [
       "    0  40 30\n",
       "0   15  +  +\n",
       "0   15  +  +\n",
       "70   -  -  -"
      ]
     },
     "metadata": {},
     "output_type": "display_data"
    },
    {
     "data": {
      "text/html": [
       "<div>\n",
       "<style scoped>\n",
       "    .dataframe tbody tr th:only-of-type {\n",
       "        vertical-align: middle;\n",
       "    }\n",
       "\n",
       "    .dataframe tbody tr th {\n",
       "        vertical-align: top;\n",
       "    }\n",
       "\n",
       "    .dataframe thead th {\n",
       "        text-align: right;\n",
       "    }\n",
       "</style>\n",
       "<table border=\"1\" class=\"dataframe\">\n",
       "  <thead>\n",
       "    <tr style=\"text-align: right;\">\n",
       "      <th></th>\n",
       "      <th>0</th>\n",
       "      <th>40</th>\n",
       "      <th>30</th>\n",
       "    </tr>\n",
       "  </thead>\n",
       "  <tbody>\n",
       "    <tr>\n",
       "      <td>0</td>\n",
       "      <td>15</td>\n",
       "      <td>+</td>\n",
       "      <td>+</td>\n",
       "    </tr>\n",
       "    <tr>\n",
       "      <td>0</td>\n",
       "      <td>15</td>\n",
       "      <td>+</td>\n",
       "      <td>+</td>\n",
       "    </tr>\n",
       "    <tr>\n",
       "      <td>70</td>\n",
       "      <td>0</td>\n",
       "      <td>-</td>\n",
       "      <td>-</td>\n",
       "    </tr>\n",
       "  </tbody>\n",
       "</table>\n",
       "</div>"
      ],
      "text/plain": [
       "    0  40 30\n",
       "0   15  +  +\n",
       "0   15  +  +\n",
       "70   0  -  -"
      ]
     },
     "metadata": {},
     "output_type": "display_data"
    },
    {
     "data": {
      "text/html": [
       "<div>\n",
       "<style scoped>\n",
       "    .dataframe tbody tr th:only-of-type {\n",
       "        vertical-align: middle;\n",
       "    }\n",
       "\n",
       "    .dataframe tbody tr th {\n",
       "        vertical-align: top;\n",
       "    }\n",
       "\n",
       "    .dataframe thead th {\n",
       "        text-align: right;\n",
       "    }\n",
       "</style>\n",
       "<table border=\"1\" class=\"dataframe\">\n",
       "  <thead>\n",
       "    <tr style=\"text-align: right;\">\n",
       "      <th></th>\n",
       "      <th>0</th>\n",
       "      <th>0</th>\n",
       "      <th>30</th>\n",
       "    </tr>\n",
       "  </thead>\n",
       "  <tbody>\n",
       "    <tr>\n",
       "      <td>0</td>\n",
       "      <td>15</td>\n",
       "      <td>+</td>\n",
       "      <td>+</td>\n",
       "    </tr>\n",
       "    <tr>\n",
       "      <td>0</td>\n",
       "      <td>15</td>\n",
       "      <td>+</td>\n",
       "      <td>+</td>\n",
       "    </tr>\n",
       "    <tr>\n",
       "      <td>30</td>\n",
       "      <td>0</td>\n",
       "      <td>40</td>\n",
       "      <td>-</td>\n",
       "    </tr>\n",
       "  </tbody>\n",
       "</table>\n",
       "</div>"
      ],
      "text/plain": [
       "    0   0  30\n",
       "0   15   +  +\n",
       "0   15   +  +\n",
       "30   0  40  -"
      ]
     },
     "metadata": {},
     "output_type": "display_data"
    },
    {
     "data": {
      "text/html": [
       "<div>\n",
       "<style scoped>\n",
       "    .dataframe tbody tr th:only-of-type {\n",
       "        vertical-align: middle;\n",
       "    }\n",
       "\n",
       "    .dataframe tbody tr th {\n",
       "        vertical-align: top;\n",
       "    }\n",
       "\n",
       "    .dataframe thead th {\n",
       "        text-align: right;\n",
       "    }\n",
       "</style>\n",
       "<table border=\"1\" class=\"dataframe\">\n",
       "  <thead>\n",
       "    <tr style=\"text-align: right;\">\n",
       "      <th></th>\n",
       "      <th>0</th>\n",
       "      <th>0</th>\n",
       "      <th>0</th>\n",
       "    </tr>\n",
       "  </thead>\n",
       "  <tbody>\n",
       "    <tr>\n",
       "      <td>0</td>\n",
       "      <td>15</td>\n",
       "      <td>+</td>\n",
       "      <td>+</td>\n",
       "    </tr>\n",
       "    <tr>\n",
       "      <td>0</td>\n",
       "      <td>15</td>\n",
       "      <td>+</td>\n",
       "      <td>+</td>\n",
       "    </tr>\n",
       "    <tr>\n",
       "      <td>0</td>\n",
       "      <td>0</td>\n",
       "      <td>40</td>\n",
       "      <td>30</td>\n",
       "    </tr>\n",
       "  </tbody>\n",
       "</table>\n",
       "</div>"
      ],
      "text/plain": [
       "    0   0   0\n",
       "0  15   +   +\n",
       "0  15   +   +\n",
       "0   0  40  30"
      ]
     },
     "metadata": {},
     "output_type": "display_data"
    },
    {
     "name": "stdout",
     "output_type": "stream",
     "text": [
      "Cost: 500, \n",
      "Route: [[0, 0], [1, 0], [2, 0], [2, 1], [2, 2]]\n"
     ]
    }
   ],
   "source": [
    "cost, route = get_ans(solution(demand, supply), costs)\n",
    "print(\"Cost: {}, \\nRoute: {}\".format(cost, route))"
   ]
  },
  {
   "cell_type": "markdown",
   "metadata": {},
   "source": [
    "## Составление первоначального плана перевозок с помощью метода наименьшей стоимости\n",
    "<br>&#8195;&#8195;Построение плана начнем с клетки с наименьшим тарифом перевозок. При наличии нескольких клеток с одинаковыми тарифами выберем любую из них. Пусть это будет клетка (i, j) . Запишем в эту клетку элемент $x_{ij}$=min($a_i$,$b_j$). Если $a_i$<$b_j$, то запасы поставщика $A_i$ исчерпаны, а потребителю $B_j$ требуется еще $b'_j=b_j-a_i$ единиц груза. Поэтому, не принимая более во внимание i-ю строку, снова ищем клетку с наименьшей стоимостью перевозок и заполняем ее с учетом изменившихся потребностей. В случае $a_i$>$b_j$ из рассмотрения исключается j-й столбец, а запасы $A_i$ полагаются равными $a'_i=a_i-b_j$. Продолжаем этот процесс до тех пор, пока все запасы не будут исчерпаны, а все потребности удовлетворены.\n",
    "<br>&#8195;&#8195;Необходимо отметить, что при наличии в таблице клеток с одинаковыми тарифами, планы, полученные с помощью этого метода, могут быть разными, однако они, несомненно, ближе к оптимальному плану, чем план, составленный по методу северо-западного угла."
   ]
  },
  {
   "cell_type": "code",
   "execution_count": 13,
   "metadata": {},
   "outputs": [
    {
     "name": "stdout",
     "output_type": "stream",
     "text": [
      "[[15.  0.  0.]\n",
      " [ 0. 15.  0.]\n",
      " [15. 25. 45.]]\n",
      "Стоимость 560\n"
     ]
    },
    {
     "data": {
      "text/plain": [
       "array([[15.,  0.,  0.],\n",
       "       [ 0., 15.,  0.],\n",
       "       [15., 25., 45.]])"
      ]
     },
     "execution_count": 13,
     "metadata": {},
     "output_type": "execute_result"
    }
   ],
   "source": [
    "def find(target,ToSearch):\n",
    "    x=[(i, t.index(target))\n",
    "    for i, t in enumerate(ToSearch)\n",
    "    if target in t]\n",
    "    return x\n",
    "\n",
    "def MatMin(supplyinfo,demandinfo,costinfo):\n",
    "    C=np.matrix(costinfo.copy())\n",
    "    sn=len(supplyinfo)\n",
    "    dn=len(demandinfo)\n",
    "    sol=np.zeros((sn,dn))\n",
    "    costs=list(costinfo)\n",
    "    supply=supplyinfo.copy()\n",
    "    demand=demandinfo.copy()\n",
    "    count=0\n",
    "    while (sum(supply)+sum(demand)) != 0 and count<20:\n",
    "        count=count+1\n",
    "        Min=[]\n",
    "        for a in range(sn):\n",
    "            row=costs[a]\n",
    "            Row=[]\n",
    "            for b in range(dn):\n",
    "                if type(row[b])==int:\n",
    "                    Row.append(row[b])\n",
    "                 \n",
    "                if b==dn-1 and len(Row)<=0:\n",
    "                    continue\n",
    "                if b==dn-1:\n",
    "                    Min.append(min(Row))\n",
    "        if len(Min)==0:\n",
    "            print(sol)\n",
    "\n",
    "            z=0\n",
    "            for k in range(sn):\n",
    "                for l in range(dn):\n",
    "                    z=z+C[k,l]*sol[k,l]\n",
    "            print('Стоимость', int(z))\n",
    "            return sol\n",
    "        smallest=min(Min)\n",
    "        location=find(smallest,costs)\n",
    "        if len(location)==1: \n",
    "            location=find(smallest,costs)[0]\n",
    "            costs[location[0]][location[1]]='x'\n",
    "            if supply[location[0]]>=demand[location[1]]:   \n",
    "                sol[location[0]][location[1]]=demand[location[1]]\n",
    "                demand[location[0]]=supply[location[0]]-demand[location[1]]\n",
    "                demand[location[1]]=0\n",
    "            else:\n",
    "                sol[location[0]][location[1]]=supply[location[0]]\n",
    "                demand[location[1]]=demand[location[1]]-supply[location[0]]\n",
    "                supply[location[0]]=0 \n",
    "        else: \n",
    "            locations=find(smallest,costs)\n",
    "            l=len(locations)\n",
    "            m=[]\n",
    "            for a in range(l):\n",
    "                L=locations[a]\n",
    "                s=L[1]\n",
    "                d=L[0]\n",
    "                if s>=d:\n",
    "                    m.append(s)\n",
    "                else:\n",
    "                    m.append(d)\n",
    "            M=max(m)\n",
    "            loc=m.index(M)\n",
    "            location=locations[loc]\n",
    "            costs[location[0]][location[1]]='x'\n",
    "            if supply[location[0]]>=demand[location[1]]:                \n",
    "                sol[location[0]][location[1]]=demand[location[1]]\n",
    "                supply[location[0]]=supply[location[0]]-demand[location[1]]\n",
    "                demand[location[1]]=0     \n",
    "            else:\n",
    "                sol[location[0]][location[1]]=supply[location[0]]\n",
    "                demand[location[1]]=demand[location[1]]-supply[location[0]]\n",
    "                supply[location[0]]=0 \n",
    "    feasabilitytest=np.count_nonzero(sol)\n",
    "    print('Number of stepping stones =', feasabilitytest)\n",
    "    if feasabilitytest==(sn+dn-1):\n",
    "        print('Feasibility test passed')\n",
    "    print(sol)\n",
    "\n",
    "    z=0\n",
    "    for k in range(sn):\n",
    "        for l in range(dn):\n",
    "            z=z+C[k,l]*sol[k,l]\n",
    "    print('Cost is £', int(z),'for this solution.')\n",
    "                \n",
    "                \n",
    "\n",
    "costs=[[1,2,6],[5,3,4],[4,5,7]]\n",
    "MatMin([15,15,70],[30,40,30],costs)\n"
   ]
  },
  {
   "cell_type": "code",
   "execution_count": 14,
   "metadata": {},
   "outputs": [],
   "source": [
    "# # Demans - A,B,C,D\n",
    "# # W,X,Y - Supply\n",
    "# # Cost matrix is given below\n",
    "# import collections\n",
    "# from collections import defaultdict\n",
    "# costs  = {'W': {'A': 11, 'B': 13, 'C': 17, 'D': 14},\n",
    "#           'X': {'A': 16, 'B': 18, 'C': 14, 'D': 10},\n",
    "#           'Y': {'A': 21, 'B': 24, 'C': 13, 'D': 10}}\n",
    "# demand = {'A': 200, 'B': 225, 'C': 275, 'D': 250}\n",
    "# cols = sorted(iter(demand.keys()))\n",
    "# supply = {'W': 250, 'X': 300, 'Y': 400}\n",
    "# res = dict((k, defaultdict(int)) for k in costs)\n",
    "# g = {}\n",
    "\n",
    "# #g contains all the columns and rows names like - a,b,c,... and so on\n",
    "\n",
    "# for x in supply:\n",
    "#     g[x] = sorted(costs[x].iterkeys(), key=lambda g: costs[x][g])\n",
    "# for x in demand:\n",
    "#     g[x] = sorted(costs.iterkeys(), key=lambda g: costs[g][x])\n",
    "\n",
    "# while g:\n",
    "#     d = {}\n",
    "#     for x in demand:\n",
    "#         d[x] = (costs[g[x][1]][x] - costs[g[x][0]][x]) if len(g[x]) > 1 else costs[g[x][0]][x]\n",
    "#     s = {}\n",
    "#     for x in supply:\n",
    "#         s[x] = (costs[x][g[x][1]] - costs[x][g[x][0]]) if len(g[x]) > 1 else costs[x][g[x][0]]\n",
    "#     f = max(d, key=lambda n: d[n])\n",
    "#     t = max(s, key=lambda n: s[n])\n",
    "#     t, f = (f, g[f][0]) if d[f] > s[t] else (g[t][0], t)\n",
    "#     v = min(supply[f], demand[t])\n",
    "#     res[f][t] += v\n",
    "#     demand[t] -= v\n",
    "#     if demand[t] == 0:\n",
    "#         for k, n in supply.iteritems():\n",
    "#             if n != 0:\n",
    "#                 g[k].remove(t)\n",
    "#         del g[t]\n",
    "#         del demand[t]\n",
    "#     supply[f] -= v\n",
    "#     if supply[f] == 0:\n",
    "#         for k, n in demand.iteritems():\n",
    "#             if n != 0:\n",
    "#                 g[k].remove(f)\n",
    "#         del g[f]\n",
    "#         del supply[f]\n",
    " \n",
    "# for n in cols:\n",
    "#     print (\"\\t\", n)\n",
    "# print()\n",
    "# cost = 0\n",
    "# for g in sorted(costs):\n",
    "#     print (g, \"\\t\")\n",
    "#     for n in cols:\n",
    "#         y = res[g][n]\n",
    "#         if y != 0:\n",
    "#             print (y)\n",
    "#         cost += y * costs[g][n]\n",
    "#         print (\"\\t\")\n",
    "#     print()\n",
    "# print (\"\\n\\nTotal Cost = \", cost)"
   ]
  },
  {
   "cell_type": "code",
   "execution_count": null,
   "metadata": {},
   "outputs": [],
   "source": []
  }
 ],
 "metadata": {
  "kernelspec": {
   "display_name": "Python 3",
   "language": "python",
   "name": "python3"
  },
  "language_info": {
   "codemirror_mode": {
    "name": "ipython",
    "version": 3
   },
   "file_extension": ".py",
   "mimetype": "text/x-python",
   "name": "python",
   "nbconvert_exporter": "python",
   "pygments_lexer": "ipython3",
   "version": "3.7.4"
  }
 },
 "nbformat": 4,
 "nbformat_minor": 2
}
